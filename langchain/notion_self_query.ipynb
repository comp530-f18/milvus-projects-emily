{
 "cells": [
  {
   "cell_type": "code",
   "execution_count": 1,
   "metadata": {},
   "outputs": [],
   "source": [
    "# Load Notion page as a markdownfile file\n",
    "from langchain.document_loaders import NotionDirectoryLoader\n",
    "path='./notion_docs'\n",
    "loader = NotionDirectoryLoader(path)\n",
    "docs = loader.load()\n",
    "md_file=docs[0].page_content"
   ]
  },
  {
   "cell_type": "code",
   "execution_count": 2,
   "metadata": {},
   "outputs": [
    {
     "data": {
      "text/plain": [
       "'# Engineering Role Definitions\\n\\n> Note:\\xa0Although the levels may be different, these tend to map pretty cleanly to similar hierarchies at Google and Microsoft, but they have no correlation to hierarchies outside of the \"club\" of elite companies (Microsoft/Amazon/Google/Facebook, etc. on the west coast, Bloomberg/Goldman/HFT firms, etc. on the east coast).\\n> \\n> \\n> People with 10-15 years of software engineering experience interview\\xa0*all the time*\\xa0at these companies, but they may not be fit for much more than a junior engineering role (SDE I or SDE II, depending on which company you\\'re looking at).\\n> \\n\\n## Junior Engineer/Intern:\\n\\n- Is essentially a new and inexperienced (below the level of Amazon/Microsoft/Google engineers) junior engineer.\\n- Attending college for computer science, or really good at teaching themselves from books and online tutorials.\\n- Can probably code something but not design it.\\n- Needs a lot of hand holding (from other software engineers) to complete any non-trivial amount of work.\\n\\n## Mid-Level/Intermediate Engineer (SDE 1):\\n\\n- Is essentially a new and inexperienced (at the level of Amazon/Microsoft/Google engineers) junior engineer.\\n- Usually a Computer Science college graduate.\\n- Typically doesn\\'t need any hand holding, but they still need someone to break down a high-level task into smaller well-defined tasks for them to work on.\\n- Tend not to understand the big picture.\\n- Typically, can get their code to work, but does not have the experience or knowledge to do the quality of work, from an architecture, maintainability and testability point-of-view, that you would expect from a senior software engineer.\\n\\n## Senior Engineer (SDE 2):\\n\\n- Has a few years of experience.\\n- Experience with large codebases and some architectural experience.\\n- Can not only code independently, but also design significant chunks of code, deliver significant team-level projects, and guide more junior developers.\\n\\n## Staff Engineer (SDE 3):\\n\\n- Has many years of experience.\\n- Has led or spearheaded at least one non-trivial or important project.\\n- Can design larger systems, work effectively across multiple teams to deliver large projects, and leads his/her team to technical success.\\n- Provides solid technical leadership for their team.\\n- Has demonstrated soft skills and political acumen, and is able to negotiate across teams.\\n\\n## Senior Staff Engineer (SDE 3.5):\\n\\n- Everything on the\\xa0*Staff Engineer*\\xa0list, plus:\\n- Generally 10-15 years of experience.\\n- Has led or spearheaded multiple non-trivial or important projects.\\n- Provides solid technical leadership\\xa0*beyond*\\xa0their team.\\n\\n## Principal Engineer\\n\\n- Everything on the\\xa0*Senior Staff Engineer*\\xa0list, plus:\\n- Generally 15-20 years of experience.\\n- Has led or spearheaded several non-trivial or important projects.\\n- Provides solid technical leadership\\xa0*across the company*.\\n- Typically has one or more patents.\\n\\n## Distinguished Engineer\\n\\n- More and better than the last. Less day-to-day coding, and more thinking, planning, and directing.\\n- Has achieved noteworthy technical, professional accomplishments while working as an engineer.\\n- This will ordinarily require significant amounts of time over the lifetime of the individual given this distinction.\\n- Provides solid technical leadership\\xa0*beyond the company*.\\n- Werner Vogels, CTO of Amazon, is a Distinguished Engineer.\\n\\n## Fellow\\n\\n- More and better than the last.\\n- Provides solid technical leadership\\xa0*across the industry*.\\n- James Gosling, creator of the Java programming language, is a Fellow.\\n\\n## Senior Fellow\\n\\n- Woz.'"
      ]
     },
     "execution_count": 2,
     "metadata": {},
     "output_type": "execute_result"
    }
   ],
   "source": [
    "md_file"
   ]
  },
  {
   "cell_type": "code",
   "execution_count": 3,
   "metadata": {},
   "outputs": [],
   "source": [
    "# Let's create groups based on the section headers in our page\n",
    "from langchain.text_splitter import MarkdownHeaderTextSplitter\n",
    "headers_to_split_on = [\n",
    "    (\"##\", \"Section\"),\n",
    "]\n",
    "markdown_splitter = MarkdownHeaderTextSplitter(headers_to_split_on=headers_to_split_on)\n",
    "md_header_splits = markdown_splitter.split_text(md_file)"
   ]
  },
  {
   "cell_type": "code",
   "execution_count": 4,
   "metadata": {},
   "outputs": [
    {
     "data": {
      "text/plain": [
       "10"
      ]
     },
     "execution_count": 4,
     "metadata": {},
     "output_type": "execute_result"
    }
   ],
   "source": [
    "len(md_header_splits)"
   ]
  },
  {
   "cell_type": "code",
   "execution_count": 5,
   "metadata": {},
   "outputs": [],
   "source": [
    "# Define our text splitter\n",
    "from langchain.text_splitter import RecursiveCharacterTextSplitter\n",
    "chunk_size = 64\n",
    "chunk_overlap = 8\n",
    "text_splitter = RecursiveCharacterTextSplitter(chunk_size=chunk_size, chunk_overlap=chunk_overlap)\n",
    "all_splits = text_splitter.split_documents(md_header_splits)"
   ]
  },
  {
   "cell_type": "code",
   "execution_count": 6,
   "metadata": {},
   "outputs": [
    {
     "data": {
      "text/plain": [
       "[Document(page_content='# Engineering Role Definitions', metadata={}),\n",
       " Document(page_content='> Note:\\xa0Although the levels may be different, these tend to map', metadata={}),\n",
       " Document(page_content='to map pretty cleanly to similar hierarchies at Google and', metadata={}),\n",
       " Document(page_content='and Microsoft, but they have no correlation to hierarchies', metadata={}),\n",
       " Document(page_content='outside of the \"club\" of elite companies', metadata={}),\n",
       " Document(page_content='(Microsoft/Amazon/Google/Facebook, etc. on the west coast,', metadata={}),\n",
       " Document(page_content='coast, Bloomberg/Goldman/HFT firms, etc. on the east coast).', metadata={}),\n",
       " Document(page_content='>\\n>', metadata={}),\n",
       " Document(page_content='> People with 10-15 years of software engineering experience', metadata={}),\n",
       " Document(page_content='interview\\xa0*all the time*\\xa0at these companies, but they may not', metadata={}),\n",
       " Document(page_content='may not be fit for much more than a junior engineering role', metadata={}),\n",
       " Document(page_content=\"role (SDE I or SDE II, depending on which company you're\", metadata={}),\n",
       " Document(page_content=\"you're looking at).\", metadata={}),\n",
       " Document(page_content='>', metadata={}),\n",
       " Document(page_content='- Is essentially a new and inexperienced (below the level of', metadata={'Section': 'Junior Engineer/Intern:'}),\n",
       " Document(page_content='of Amazon/Microsoft/Google engineers) junior engineer.', metadata={'Section': 'Junior Engineer/Intern:'}),\n",
       " Document(page_content='- Attending college for computer science, or really good at', metadata={'Section': 'Junior Engineer/Intern:'}),\n",
       " Document(page_content='good at teaching themselves from books and online tutorials.', metadata={'Section': 'Junior Engineer/Intern:'}),\n",
       " Document(page_content='- Can probably code something but not design it.', metadata={'Section': 'Junior Engineer/Intern:'}),\n",
       " Document(page_content='- Needs a lot of hand holding (from other software engineers)', metadata={'Section': 'Junior Engineer/Intern:'}),\n",
       " Document(page_content='to complete any non-trivial amount of work.', metadata={'Section': 'Junior Engineer/Intern:'}),\n",
       " Document(page_content='- Is essentially a new and inexperienced (at the level of', metadata={'Section': 'Mid-Level/Intermediate Engineer (SDE 1):'}),\n",
       " Document(page_content='of Amazon/Microsoft/Google engineers) junior engineer.', metadata={'Section': 'Mid-Level/Intermediate Engineer (SDE 1):'}),\n",
       " Document(page_content='- Usually a Computer Science college graduate.', metadata={'Section': 'Mid-Level/Intermediate Engineer (SDE 1):'}),\n",
       " Document(page_content=\"- Typically doesn't need any hand holding, but they still need\", metadata={'Section': 'Mid-Level/Intermediate Engineer (SDE 1):'}),\n",
       " Document(page_content='need someone to break down a high-level task into smaller', metadata={'Section': 'Mid-Level/Intermediate Engineer (SDE 1):'}),\n",
       " Document(page_content='smaller well-defined tasks for them to work on.', metadata={'Section': 'Mid-Level/Intermediate Engineer (SDE 1):'}),\n",
       " Document(page_content='- Tend not to understand the big picture.', metadata={'Section': 'Mid-Level/Intermediate Engineer (SDE 1):'}),\n",
       " Document(page_content='- Typically, can get their code to work, but does not have the', metadata={'Section': 'Mid-Level/Intermediate Engineer (SDE 1):'}),\n",
       " Document(page_content='the experience or knowledge to do the quality of work, from an', metadata={'Section': 'Mid-Level/Intermediate Engineer (SDE 1):'}),\n",
       " Document(page_content='from an architecture, maintainability and testability', metadata={'Section': 'Mid-Level/Intermediate Engineer (SDE 1):'}),\n",
       " Document(page_content='point-of-view, that you would expect from a senior software', metadata={'Section': 'Mid-Level/Intermediate Engineer (SDE 1):'}),\n",
       " Document(page_content='engineer.', metadata={'Section': 'Mid-Level/Intermediate Engineer (SDE 1):'}),\n",
       " Document(page_content='- Has a few years of experience.', metadata={'Section': 'Senior Engineer (SDE 2):'}),\n",
       " Document(page_content='- Experience with large codebases and some architectural', metadata={'Section': 'Senior Engineer (SDE 2):'}),\n",
       " Document(page_content='experience.', metadata={'Section': 'Senior Engineer (SDE 2):'}),\n",
       " Document(page_content='- Can not only code independently, but also design significant', metadata={'Section': 'Senior Engineer (SDE 2):'}),\n",
       " Document(page_content='chunks of code, deliver significant team-level projects, and', metadata={'Section': 'Senior Engineer (SDE 2):'}),\n",
       " Document(page_content='and guide more junior developers.', metadata={'Section': 'Senior Engineer (SDE 2):'}),\n",
       " Document(page_content='- Has many years of experience.', metadata={'Section': 'Staff Engineer (SDE 3):'}),\n",
       " Document(page_content='- Has led or spearheaded at least one non-trivial or important', metadata={'Section': 'Staff Engineer (SDE 3):'}),\n",
       " Document(page_content='project.', metadata={'Section': 'Staff Engineer (SDE 3):'}),\n",
       " Document(page_content='- Can design larger systems, work effectively across multiple', metadata={'Section': 'Staff Engineer (SDE 3):'}),\n",
       " Document(page_content='teams to deliver large projects, and leads his/her team to', metadata={'Section': 'Staff Engineer (SDE 3):'}),\n",
       " Document(page_content='team to technical success.', metadata={'Section': 'Staff Engineer (SDE 3):'}),\n",
       " Document(page_content='- Provides solid technical leadership for their team.', metadata={'Section': 'Staff Engineer (SDE 3):'}),\n",
       " Document(page_content='- Has demonstrated soft skills and political acumen, and is', metadata={'Section': 'Staff Engineer (SDE 3):'}),\n",
       " Document(page_content='and is able to negotiate across teams.', metadata={'Section': 'Staff Engineer (SDE 3):'}),\n",
       " Document(page_content='- Everything on the\\xa0*Staff Engineer*\\xa0list, plus:', metadata={'Section': 'Senior Staff Engineer (SDE 3.5):'}),\n",
       " Document(page_content='- Generally 10-15 years of experience.', metadata={'Section': 'Senior Staff Engineer (SDE 3.5):'}),\n",
       " Document(page_content='- Has led or spearheaded multiple non-trivial or important', metadata={'Section': 'Senior Staff Engineer (SDE 3.5):'}),\n",
       " Document(page_content='projects.', metadata={'Section': 'Senior Staff Engineer (SDE 3.5):'}),\n",
       " Document(page_content='- Provides solid technical leadership\\xa0*beyond*\\xa0their team.', metadata={'Section': 'Senior Staff Engineer (SDE 3.5):'}),\n",
       " Document(page_content='- Everything on the\\xa0*Senior Staff Engineer*\\xa0list, plus:', metadata={'Section': 'Principal Engineer'}),\n",
       " Document(page_content='- Generally 15-20 years of experience.', metadata={'Section': 'Principal Engineer'}),\n",
       " Document(page_content='- Has led or spearheaded several non-trivial or important', metadata={'Section': 'Principal Engineer'}),\n",
       " Document(page_content='projects.', metadata={'Section': 'Principal Engineer'}),\n",
       " Document(page_content='- Provides solid technical leadership\\xa0*across the company*.', metadata={'Section': 'Principal Engineer'}),\n",
       " Document(page_content='- Typically has one or more patents.', metadata={'Section': 'Principal Engineer'}),\n",
       " Document(page_content='- More and better than the last. Less day-to-day coding, and', metadata={'Section': 'Distinguished Engineer'}),\n",
       " Document(page_content='and more thinking, planning, and directing.', metadata={'Section': 'Distinguished Engineer'}),\n",
       " Document(page_content='- Has achieved noteworthy technical, professional', metadata={'Section': 'Distinguished Engineer'}),\n",
       " Document(page_content='accomplishments while working as an engineer.', metadata={'Section': 'Distinguished Engineer'}),\n",
       " Document(page_content='- This will ordinarily require significant amounts of time over', metadata={'Section': 'Distinguished Engineer'}),\n",
       " Document(page_content='over the lifetime of the individual given this distinction.', metadata={'Section': 'Distinguished Engineer'}),\n",
       " Document(page_content='- Provides solid technical leadership\\xa0*beyond the company*.', metadata={'Section': 'Distinguished Engineer'}),\n",
       " Document(page_content='- Werner Vogels, CTO of Amazon, is a Distinguished Engineer.', metadata={'Section': 'Distinguished Engineer'}),\n",
       " Document(page_content='- More and better than the last.', metadata={'Section': 'Fellow'}),\n",
       " Document(page_content='- Provides solid technical leadership\\xa0*across the industry*.', metadata={'Section': 'Fellow'}),\n",
       " Document(page_content='- James Gosling, creator of the Java programming language, is a', metadata={'Section': 'Fellow'}),\n",
       " Document(page_content='is a Fellow.', metadata={'Section': 'Fellow'}),\n",
       " Document(page_content='- Woz.', metadata={'Section': 'Senior Fellow'})]"
      ]
     },
     "execution_count": 6,
     "metadata": {},
     "output_type": "execute_result"
    }
   ],
   "source": [
    "all_splits"
   ]
  },
  {
   "cell_type": "code",
   "execution_count": 7,
   "metadata": {},
   "outputs": [
    {
     "data": {
      "text/plain": [
       "72"
      ]
     },
     "execution_count": 7,
     "metadata": {},
     "output_type": "execute_result"
    }
   ],
   "source": [
    "len(all_splits)"
   ]
  },
  {
   "cell_type": "code",
   "execution_count": 8,
   "metadata": {},
   "outputs": [],
   "source": [
    "from milvus import default_server"
   ]
  },
  {
   "cell_type": "code",
   "execution_count": 9,
   "metadata": {},
   "outputs": [],
   "source": [
    "default_server.start()"
   ]
  },
  {
   "cell_type": "code",
   "execution_count": 10,
   "metadata": {},
   "outputs": [],
   "source": [
    "from langchain.vectorstores import Milvus\n",
    "from langchain.embeddings import OpenAIEmbeddings"
   ]
  },
  {
   "cell_type": "code",
   "execution_count": 11,
   "metadata": {},
   "outputs": [],
   "source": [
    "vectordb = Milvus.from_documents(documents=all_splits,\n",
    "                                 embedding=OpenAIEmbeddings(),\n",
    "                                 connection_args={\"host\": \"127.0.0.1\", \"port\": default_server.listen_port},\n",
    "                                 collection_name=\"EngineeringNotionDoc\")"
   ]
  },
  {
   "cell_type": "code",
   "execution_count": 12,
   "metadata": {},
   "outputs": [],
   "source": [
    "from langchain.llms import OpenAI\n",
    "from langchain.retrievers.self_query.base import SelfQueryRetriever\n",
    "from langchain.chains.query_constructor.base import AttributeInfo\n",
    "\n",
    "metadata_fields_info = [\n",
    "    AttributeInfo(\n",
    "        name=\"Section\",\n",
    "        description=\"Part of the document that the text comes from\",\n",
    "        type=\"string or list[string]\"\n",
    "    ),\n",
    "]\n",
    "document_content_description = \"Major sections of the document\"\n",
    "\n",
    "llm = OpenAI(temperature=0)\n",
    "retriever = SelfQueryRetriever.from_llm(llm, vectordb, document_content_description, metadata_fields_info, verbose=True)"
   ]
  },
  {
   "cell_type": "code",
   "execution_count": 14,
   "metadata": {},
   "outputs": [
    {
     "name": "stdout",
     "output_type": "stream",
     "text": [
      "query='distinguished engineer' filter=None limit=None\n"
     ]
    },
    {
     "data": {
      "text/plain": [
       "[Document(page_content='engineer.', metadata={}),\n",
       " Document(page_content='accomplishments while working as an engineer.', metadata={}),\n",
       " Document(page_content='- Werner Vogels, CTO of Amazon, is a Distinguished Engineer.', metadata={}),\n",
       " Document(page_content='of Amazon/Microsoft/Google engineers) junior engineer.', metadata={})]"
      ]
     },
     "execution_count": 14,
     "metadata": {},
     "output_type": "execute_result"
    }
   ],
   "source": [
    "retriever.get_relevant_documents(\"What makes a distinguished engineer?\")"
   ]
  },
  {
   "cell_type": "code",
   "execution_count": 1,
   "metadata": {},
   "outputs": [
    {
     "ename": "NameError",
     "evalue": "name 'default_server' is not defined",
     "output_type": "error",
     "traceback": [
      "\u001b[0;31m---------------------------------------------------------------------------\u001b[0m",
      "\u001b[0;31mNameError\u001b[0m                                 Traceback (most recent call last)",
      "Cell \u001b[0;32mIn[1], line 1\u001b[0m\n\u001b[0;32m----> 1\u001b[0m default_server\u001b[39m.\u001b[39mstop()\n",
      "\u001b[0;31mNameError\u001b[0m: name 'default_server' is not defined"
     ]
    }
   ],
   "source": [
    "default_server.stop()"
   ]
  },
  {
   "cell_type": "code",
   "execution_count": 28,
   "metadata": {},
   "outputs": [],
   "source": [
    "from pymilvus import utility, connections"
   ]
  },
  {
   "cell_type": "code",
   "execution_count": 29,
   "metadata": {},
   "outputs": [],
   "source": [
    "connections.connect(host=\"127.0.0.1\", port=default_server.listen_port)"
   ]
  },
  {
   "cell_type": "code",
   "execution_count": 36,
   "metadata": {},
   "outputs": [],
   "source": [
    "utility.drop_collection(\"NotionEngineeringDoc\")"
   ]
  },
  {
   "cell_type": "code",
   "execution_count": null,
   "metadata": {},
   "outputs": [],
   "source": []
  }
 ],
 "metadata": {
  "kernelspec": {
   "display_name": "hw_milvus",
   "language": "python",
   "name": "python3"
  },
  "language_info": {
   "codemirror_mode": {
    "name": "ipython",
    "version": 3
   },
   "file_extension": ".py",
   "mimetype": "text/x-python",
   "name": "python",
   "nbconvert_exporter": "python",
   "pygments_lexer": "ipython3",
   "version": "3.10.11"
  },
  "orig_nbformat": 4
 },
 "nbformat": 4,
 "nbformat_minor": 2
}
