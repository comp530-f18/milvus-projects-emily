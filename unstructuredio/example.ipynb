{
 "cells": [
  {
   "cell_type": "code",
   "execution_count": null,
   "metadata": {},
   "outputs": [],
   "source": [
    "API_KEY = \"C9ApmUGd9HGdJhJsRW7FP2WFceTkLT\""
   ]
  },
  {
   "cell_type": "code",
   "execution_count": null,
   "metadata": {},
   "outputs": [],
   "source": [
    "# Command to execute\n",
    "command = [\n",
    "    'unstructured-ingest',\n",
    "    '--drive-id', 'ADD-THIS',\n",
    "    '--drive-service-account-key', 'SERVICE-KEY',\n",
    "    '--structured-output-dir', '/Location/To/Fille',\n",
    "    '--num-processes', '8',\n",
    "    '--api-key', '<API-KEy>',\n",
    "    '--partition-by-api'\n",
    "]"
   ]
  },
  {
   "cell_type": "code",
   "execution_count": null,
   "metadata": {},
   "outputs": [],
   "source": [
    "url = 'https://api.unstructured.io/general/v0/general'\n",
    "\n",
    "headers = {\n",
    "    'accept': 'application/json',\n",
    "    'unstructured-api-key': '<API-KEY>',\n",
    "}\n",
    "\n",
    "data = {\n",
    "    'strategy': 'hi_res',\n",
    "    # 'hi_res_model_name': 'chipper',\n",
    "}\n",
    "\n",
    "file_path = \"/Path/To/File\"\n",
    "file_data = {'files': open(file_path, 'rb')}\n",
    "\n",
    "response = requests.post(url, headers=headers, data=data, files=file_data)\n",
    "\n",
    "file_data['files'].close()\n",
    "\n",
    "json_response = response.json()"
   ]
  }
 ],
 "metadata": {
  "language_info": {
   "name": "python"
  },
  "orig_nbformat": 4
 },
 "nbformat": 4,
 "nbformat_minor": 2
}
