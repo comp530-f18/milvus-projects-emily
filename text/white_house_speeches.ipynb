{
 "cells": [
  {
   "attachments": {},
   "cell_type": "markdown",
   "metadata": {},
   "source": [
    "# Search White House Speeches from 2021 to 2022 Based On Content\n",
    "\n",
    "A semantic search example based on White House Speeches from 2021 to 2022. Many of these speeches were made after GPT 3.5 was trained. The White House (Speeches and Remarks) 12/10/2022 dataset can be found on [Kaggle](https://www.kaggle.com/datasets/mohamedkhaledelsafty/the-white-house-speeches-and-remarks-12102022). For this example, we've also made this available on Google Drive. We put together a system to semantically search these speeches using a vector database and the sentence-transformers library. For this example, we use [Milvus Lite](https://milvus.io/docs/milvus_lite.md) to run our vector database locally.\n",
    "\n",
    "We begin by installing the necessary libraries:"
   ]
  },
  {
   "cell_type": "code",
   "execution_count": null,
   "metadata": {},
   "outputs": [],
   "source": [
    "! pip install pymilvus sentence-transformers gdown milvus"
   ]
  },
  {
   "attachments": {},
   "cell_type": "markdown",
   "metadata": {},
   "source": [
    "## Download Dataset\n",
    "\n",
    "Next, we download and extract our dataset"
   ]
  },
  {
   "cell_type": "code",
   "execution_count": 1,
   "metadata": {},
   "outputs": [
    {
     "name": "stderr",
     "output_type": "stream",
     "text": [
      "Downloading...\n",
      "From: https://drive.google.com/uc?id=10_sVL0UmEog7mczLedK5s1pnlDOz3Ukf\n",
      "To: /Users/yujiantang/Documents/workspace/hello_world_project/text/white_house_2021_2022.zip\n",
      "100%|██████████| 1.63M/1.63M [00:01<00:00, 1.43MB/s]\n"
     ]
    }
   ],
   "source": [
    "import gdown\n",
    "url = 'https://drive.google.com/uc?id=10_sVL0UmEog7mczLedK5s1pnlDOz3Ukf'\n",
    "output = './white_house_2021_2022.zip'\n",
    "gdown.download(url, output)\n",
    "\n",
    "import zipfile\n",
    "\n",
    "with zipfile.ZipFile(\"./white_house_2021_2022.zip\",\"r\") as zip_ref:\n",
    "    zip_ref.extractall(\"./white_house_2021_2022\")"
   ]
  },
  {
   "attachments": {},
   "cell_type": "markdown",
   "metadata": {},
   "source": [
    "## Clean the Data\n",
    "\n",
    "This dataset is not a precleaned dataset so we need to clean it up before we can work on it. Our first preprocessing step is to drop all rows with any `Null` or `NaN` data using `.dropna()`. Next, we ensure that we aren't picking up any partial speeches by only taking speeches that have more than 50 characters. We also get rid of all the return and newline characters in the speeches. Finally, we convert the dates into the universally accepted datetime format."
   ]
  },
  {
   "cell_type": "code",
   "execution_count": 2,
   "metadata": {},
   "outputs": [
    {
     "data": {
      "text/html": [
       "<div>\n",
       "<style scoped>\n",
       "    .dataframe tbody tr th:only-of-type {\n",
       "        vertical-align: middle;\n",
       "    }\n",
       "\n",
       "    .dataframe tbody tr th {\n",
       "        vertical-align: top;\n",
       "    }\n",
       "\n",
       "    .dataframe thead th {\n",
       "        text-align: right;\n",
       "    }\n",
       "</style>\n",
       "<table border=\"1\" class=\"dataframe\">\n",
       "  <thead>\n",
       "    <tr style=\"text-align: right;\">\n",
       "      <th></th>\n",
       "      <th>Title</th>\n",
       "      <th>Date_time</th>\n",
       "      <th>Location</th>\n",
       "      <th>Speech</th>\n",
       "    </tr>\n",
       "  </thead>\n",
       "  <tbody>\n",
       "    <tr>\n",
       "      <th>0</th>\n",
       "      <td>Remarks by President Biden Before Marine One D...</td>\n",
       "      <td>OCTOBER 12, 2022</td>\n",
       "      <td>Not determined</td>\n",
       "      <td>NaN</td>\n",
       "    </tr>\n",
       "    <tr>\n",
       "      <th>1</th>\n",
       "      <td>Remarks by President Biden in a Virtual Recept...</td>\n",
       "      <td>OCTOBER 11, 2022</td>\n",
       "      <td>Not determined</td>\n",
       "      <td>6:47 P.M. EDT\\r\\n \\r\\nTHE PRESIDENT:  Well, th...</td>\n",
       "    </tr>\n",
       "    <tr>\n",
       "      <th>2</th>\n",
       "      <td>Remarks by President Biden at the Summit on Fi...</td>\n",
       "      <td>OCTOBER 11, 2022</td>\n",
       "      <td>Eisenhower Executive Office Building</td>\n",
       "      <td>2:56 P.M. EDT\\r\\n\\r\\nTHE PRESIDENT:  Doctor, t...</td>\n",
       "    </tr>\n",
       "    <tr>\n",
       "      <th>3</th>\n",
       "      <td>Remarks by Vice President Harris at a Democrat...</td>\n",
       "      <td>OCTOBER 10, 2022</td>\n",
       "      <td>Princeton, New Jersey</td>\n",
       "      <td>THE VICE PRESIDENT:  Good morning, everyone.\\r...</td>\n",
       "    </tr>\n",
       "    <tr>\n",
       "      <th>4</th>\n",
       "      <td>Remarks by Vice President Harris in a Conversa...</td>\n",
       "      <td>OCTOBER 09, 2022</td>\n",
       "      <td>Austin, Texas</td>\n",
       "      <td>NaN</td>\n",
       "    </tr>\n",
       "  </tbody>\n",
       "</table>\n",
       "</div>"
      ],
      "text/plain": [
       "                                               Title         Date_time   \n",
       "0  Remarks by President Biden Before Marine One D...  OCTOBER 12, 2022  \\\n",
       "1  Remarks by President Biden in a Virtual Recept...  OCTOBER 11, 2022   \n",
       "2  Remarks by President Biden at the Summit on Fi...  OCTOBER 11, 2022   \n",
       "3  Remarks by Vice President Harris at a Democrat...  OCTOBER 10, 2022   \n",
       "4  Remarks by Vice President Harris in a Conversa...  OCTOBER 09, 2022   \n",
       "\n",
       "                               Location   \n",
       "0                        Not determined  \\\n",
       "1                        Not determined   \n",
       "2  Eisenhower Executive Office Building   \n",
       "3                 Princeton, New Jersey   \n",
       "4                         Austin, Texas   \n",
       "\n",
       "                                              Speech  \n",
       "0                                                NaN  \n",
       "1  6:47 P.M. EDT\\r\\n \\r\\nTHE PRESIDENT:  Well, th...  \n",
       "2  2:56 P.M. EDT\\r\\n\\r\\nTHE PRESIDENT:  Doctor, t...  \n",
       "3  THE VICE PRESIDENT:  Good morning, everyone.\\r...  \n",
       "4                                                NaN  "
      ]
     },
     "execution_count": 2,
     "metadata": {},
     "output_type": "execute_result"
    }
   ],
   "source": [
    "import pandas as pd\n",
    "df = pd.read_csv(\"./white_house_2021_2022/The white house speeches.csv\")\n",
    "df.head()"
   ]
  },
  {
   "cell_type": "code",
   "execution_count": 4,
   "metadata": {},
   "outputs": [
    {
     "data": {
      "text/html": [
       "<div>\n",
       "<style scoped>\n",
       "    .dataframe tbody tr th:only-of-type {\n",
       "        vertical-align: middle;\n",
       "    }\n",
       "\n",
       "    .dataframe tbody tr th {\n",
       "        vertical-align: top;\n",
       "    }\n",
       "\n",
       "    .dataframe thead th {\n",
       "        text-align: right;\n",
       "    }\n",
       "</style>\n",
       "<table border=\"1\" class=\"dataframe\">\n",
       "  <thead>\n",
       "    <tr style=\"text-align: right;\">\n",
       "      <th></th>\n",
       "      <th>Title</th>\n",
       "      <th>Date_time</th>\n",
       "      <th>Location</th>\n",
       "      <th>Speech</th>\n",
       "    </tr>\n",
       "  </thead>\n",
       "  <tbody>\n",
       "    <tr>\n",
       "      <th>1</th>\n",
       "      <td>Remarks by President Biden in a Virtual Recept...</td>\n",
       "      <td>OCTOBER 11, 2022</td>\n",
       "      <td>Not determined</td>\n",
       "      <td>6:47 P.M. EDT\\r\\n \\r\\nTHE PRESIDENT:  Well, th...</td>\n",
       "    </tr>\n",
       "    <tr>\n",
       "      <th>2</th>\n",
       "      <td>Remarks by President Biden at the Summit on Fi...</td>\n",
       "      <td>OCTOBER 11, 2022</td>\n",
       "      <td>Eisenhower Executive Office Building</td>\n",
       "      <td>2:56 P.M. EDT\\r\\n\\r\\nTHE PRESIDENT:  Doctor, t...</td>\n",
       "    </tr>\n",
       "    <tr>\n",
       "      <th>3</th>\n",
       "      <td>Remarks by Vice President Harris at a Democrat...</td>\n",
       "      <td>OCTOBER 10, 2022</td>\n",
       "      <td>Princeton, New Jersey</td>\n",
       "      <td>THE VICE PRESIDENT:  Good morning, everyone.\\r...</td>\n",
       "    </tr>\n",
       "    <tr>\n",
       "      <th>5</th>\n",
       "      <td>Remarks by Vice President Harris in a Keynote ...</td>\n",
       "      <td>OCTOBER 09, 2022</td>\n",
       "      <td>Austin, Texas</td>\n",
       "      <td>5:44 P.M. CDT\\r\\n  \\r\\nTHE VICE PRESIDENT:  Go...</td>\n",
       "    </tr>\n",
       "    <tr>\n",
       "      <th>6</th>\n",
       "      <td>Remarks by President Biden on the Economy and ...</td>\n",
       "      <td>OCTOBER 07, 2022</td>\n",
       "      <td>Hagerstown, Maryland</td>\n",
       "      <td>1:24 P.M. EDT\\r\\n\\r\\nTHE PRESIDENT:  Please, h...</td>\n",
       "    </tr>\n",
       "    <tr>\n",
       "      <th>...</th>\n",
       "      <td>...</td>\n",
       "      <td>...</td>\n",
       "      <td>...</td>\n",
       "      <td>...</td>\n",
       "    </tr>\n",
       "    <tr>\n",
       "      <th>1095</th>\n",
       "      <td>Remarks by President Biden on the Fight to Con...</td>\n",
       "      <td>JANUARY 26, 2021</td>\n",
       "      <td>Not determined</td>\n",
       "      <td>4:50 P.M. EST\\r\\n\\r\\n     THE PRESIDENT:  Than...</td>\n",
       "    </tr>\n",
       "    <tr>\n",
       "      <th>1096</th>\n",
       "      <td>Remarks by President Biden at Signing of an Ex...</td>\n",
       "      <td>JANUARY 26, 2021</td>\n",
       "      <td>Not determined</td>\n",
       "      <td>2:06 P.M. EST \\r\\n     THE PRESIDENT:  Good af...</td>\n",
       "    </tr>\n",
       "    <tr>\n",
       "      <th>1097</th>\n",
       "      <td>REMARKS BY VICE PRESIDENT HARRIS AFTER RECEIVI...</td>\n",
       "      <td>JANUARY 26, 2021</td>\n",
       "      <td>Bethesda, Maryland</td>\n",
       "      <td>3:53 P.M. EST\\r\\n\\r\\n     THE VICE PRESIDENT: ...</td>\n",
       "    </tr>\n",
       "    <tr>\n",
       "      <th>1098</th>\n",
       "      <td>Remarks by President Biden at Signing of Execu...</td>\n",
       "      <td>JANUARY 25, 2021</td>\n",
       "      <td>Not determined</td>\n",
       "      <td>3:42 P.M. EST\\r\\n\\r\\n     THE PRESIDENT:  Good...</td>\n",
       "    </tr>\n",
       "    <tr>\n",
       "      <th>1099</th>\n",
       "      <td>Remarks by President Biden in Signing of Execu...</td>\n",
       "      <td>JANUARY 25, 2021</td>\n",
       "      <td>Not determined</td>\n",
       "      <td>12:18 P.M. EST</td>\n",
       "    </tr>\n",
       "  </tbody>\n",
       "</table>\n",
       "<p>1067 rows × 4 columns</p>\n",
       "</div>"
      ],
      "text/plain": [
       "                                                  Title         Date_time   \n",
       "1     Remarks by President Biden in a Virtual Recept...  OCTOBER 11, 2022  \\\n",
       "2     Remarks by President Biden at the Summit on Fi...  OCTOBER 11, 2022   \n",
       "3     Remarks by Vice President Harris at a Democrat...  OCTOBER 10, 2022   \n",
       "5     Remarks by Vice President Harris in a Keynote ...  OCTOBER 09, 2022   \n",
       "6     Remarks by President Biden on the Economy and ...  OCTOBER 07, 2022   \n",
       "...                                                 ...               ...   \n",
       "1095  Remarks by President Biden on the Fight to Con...  JANUARY 26, 2021   \n",
       "1096  Remarks by President Biden at Signing of an Ex...  JANUARY 26, 2021   \n",
       "1097  REMARKS BY VICE PRESIDENT HARRIS AFTER RECEIVI...  JANUARY 26, 2021   \n",
       "1098  Remarks by President Biden at Signing of Execu...  JANUARY 25, 2021   \n",
       "1099  Remarks by President Biden in Signing of Execu...  JANUARY 25, 2021   \n",
       "\n",
       "                                  Location   \n",
       "1                           Not determined  \\\n",
       "2     Eisenhower Executive Office Building   \n",
       "3                    Princeton, New Jersey   \n",
       "5                            Austin, Texas   \n",
       "6                     Hagerstown, Maryland   \n",
       "...                                    ...   \n",
       "1095                        Not determined   \n",
       "1096                        Not determined   \n",
       "1097                    Bethesda, Maryland   \n",
       "1098                        Not determined   \n",
       "1099                        Not determined   \n",
       "\n",
       "                                                 Speech  \n",
       "1     6:47 P.M. EDT\\r\\n \\r\\nTHE PRESIDENT:  Well, th...  \n",
       "2     2:56 P.M. EDT\\r\\n\\r\\nTHE PRESIDENT:  Doctor, t...  \n",
       "3     THE VICE PRESIDENT:  Good morning, everyone.\\r...  \n",
       "5     5:44 P.M. CDT\\r\\n  \\r\\nTHE VICE PRESIDENT:  Go...  \n",
       "6     1:24 P.M. EDT\\r\\n\\r\\nTHE PRESIDENT:  Please, h...  \n",
       "...                                                 ...  \n",
       "1095  4:50 P.M. EST\\r\\n\\r\\n     THE PRESIDENT:  Than...  \n",
       "1096  2:06 P.M. EST \\r\\n     THE PRESIDENT:  Good af...  \n",
       "1097  3:53 P.M. EST\\r\\n\\r\\n     THE VICE PRESIDENT: ...  \n",
       "1098  3:42 P.M. EST\\r\\n\\r\\n     THE PRESIDENT:  Good...  \n",
       "1099                                     12:18 P.M. EST  \n",
       "\n",
       "[1067 rows x 4 columns]"
      ]
     },
     "execution_count": 4,
     "metadata": {},
     "output_type": "execute_result"
    }
   ],
   "source": [
    "df = df.dropna()\n",
    "df"
   ]
  },
  {
   "cell_type": "code",
   "execution_count": 5,
   "metadata": {},
   "outputs": [],
   "source": [
    "cleaned_df = df.loc[(df[\"Speech\"].str.len() > 50)]"
   ]
  },
  {
   "cell_type": "code",
   "execution_count": 6,
   "metadata": {},
   "outputs": [
    {
     "data": {
      "text/html": [
       "<div>\n",
       "<style scoped>\n",
       "    .dataframe tbody tr th:only-of-type {\n",
       "        vertical-align: middle;\n",
       "    }\n",
       "\n",
       "    .dataframe tbody tr th {\n",
       "        vertical-align: top;\n",
       "    }\n",
       "\n",
       "    .dataframe thead th {\n",
       "        text-align: right;\n",
       "    }\n",
       "</style>\n",
       "<table border=\"1\" class=\"dataframe\">\n",
       "  <thead>\n",
       "    <tr style=\"text-align: right;\">\n",
       "      <th></th>\n",
       "      <th>Title</th>\n",
       "      <th>Date_time</th>\n",
       "      <th>Location</th>\n",
       "      <th>Speech</th>\n",
       "    </tr>\n",
       "  </thead>\n",
       "  <tbody>\n",
       "    <tr>\n",
       "      <th>1</th>\n",
       "      <td>Remarks by President Biden in a Virtual Recept...</td>\n",
       "      <td>OCTOBER 11, 2022</td>\n",
       "      <td>Not determined</td>\n",
       "      <td>6:47 P.M. EDT\\r\\n \\r\\nTHE PRESIDENT:  Well, th...</td>\n",
       "    </tr>\n",
       "    <tr>\n",
       "      <th>2</th>\n",
       "      <td>Remarks by President Biden at the Summit on Fi...</td>\n",
       "      <td>OCTOBER 11, 2022</td>\n",
       "      <td>Eisenhower Executive Office Building</td>\n",
       "      <td>2:56 P.M. EDT\\r\\n\\r\\nTHE PRESIDENT:  Doctor, t...</td>\n",
       "    </tr>\n",
       "    <tr>\n",
       "      <th>3</th>\n",
       "      <td>Remarks by Vice President Harris at a Democrat...</td>\n",
       "      <td>OCTOBER 10, 2022</td>\n",
       "      <td>Princeton, New Jersey</td>\n",
       "      <td>THE VICE PRESIDENT:  Good morning, everyone.\\r...</td>\n",
       "    </tr>\n",
       "    <tr>\n",
       "      <th>5</th>\n",
       "      <td>Remarks by Vice President Harris in a Keynote ...</td>\n",
       "      <td>OCTOBER 09, 2022</td>\n",
       "      <td>Austin, Texas</td>\n",
       "      <td>5:44 P.M. CDT\\r\\n  \\r\\nTHE VICE PRESIDENT:  Go...</td>\n",
       "    </tr>\n",
       "    <tr>\n",
       "      <th>6</th>\n",
       "      <td>Remarks by President Biden on the Economy and ...</td>\n",
       "      <td>OCTOBER 07, 2022</td>\n",
       "      <td>Hagerstown, Maryland</td>\n",
       "      <td>1:24 P.M. EDT\\r\\n\\r\\nTHE PRESIDENT:  Please, h...</td>\n",
       "    </tr>\n",
       "    <tr>\n",
       "      <th>...</th>\n",
       "      <td>...</td>\n",
       "      <td>...</td>\n",
       "      <td>...</td>\n",
       "      <td>...</td>\n",
       "    </tr>\n",
       "    <tr>\n",
       "      <th>1091</th>\n",
       "      <td>Remarks By Vice President Harris To State Depa...</td>\n",
       "      <td>FEBRUARY 04, 2021</td>\n",
       "      <td>Harry S. Truman Building</td>\n",
       "      <td>THE VICE PRESIDENT:  Thank you, Secretary Blin...</td>\n",
       "    </tr>\n",
       "    <tr>\n",
       "      <th>1095</th>\n",
       "      <td>Remarks by President Biden on the Fight to Con...</td>\n",
       "      <td>JANUARY 26, 2021</td>\n",
       "      <td>Not determined</td>\n",
       "      <td>4:50 P.M. EST\\r\\n\\r\\n     THE PRESIDENT:  Than...</td>\n",
       "    </tr>\n",
       "    <tr>\n",
       "      <th>1096</th>\n",
       "      <td>Remarks by President Biden at Signing of an Ex...</td>\n",
       "      <td>JANUARY 26, 2021</td>\n",
       "      <td>Not determined</td>\n",
       "      <td>2:06 P.M. EST \\r\\n     THE PRESIDENT:  Good af...</td>\n",
       "    </tr>\n",
       "    <tr>\n",
       "      <th>1097</th>\n",
       "      <td>REMARKS BY VICE PRESIDENT HARRIS AFTER RECEIVI...</td>\n",
       "      <td>JANUARY 26, 2021</td>\n",
       "      <td>Bethesda, Maryland</td>\n",
       "      <td>3:53 P.M. EST\\r\\n\\r\\n     THE VICE PRESIDENT: ...</td>\n",
       "    </tr>\n",
       "    <tr>\n",
       "      <th>1098</th>\n",
       "      <td>Remarks by President Biden at Signing of Execu...</td>\n",
       "      <td>JANUARY 25, 2021</td>\n",
       "      <td>Not determined</td>\n",
       "      <td>3:42 P.M. EST\\r\\n\\r\\n     THE PRESIDENT:  Good...</td>\n",
       "    </tr>\n",
       "  </tbody>\n",
       "</table>\n",
       "<p>637 rows × 4 columns</p>\n",
       "</div>"
      ],
      "text/plain": [
       "                                                  Title          Date_time   \n",
       "1     Remarks by President Biden in a Virtual Recept...   OCTOBER 11, 2022  \\\n",
       "2     Remarks by President Biden at the Summit on Fi...   OCTOBER 11, 2022   \n",
       "3     Remarks by Vice President Harris at a Democrat...   OCTOBER 10, 2022   \n",
       "5     Remarks by Vice President Harris in a Keynote ...   OCTOBER 09, 2022   \n",
       "6     Remarks by President Biden on the Economy and ...   OCTOBER 07, 2022   \n",
       "...                                                 ...                ...   \n",
       "1091  Remarks By Vice President Harris To State Depa...  FEBRUARY 04, 2021   \n",
       "1095  Remarks by President Biden on the Fight to Con...   JANUARY 26, 2021   \n",
       "1096  Remarks by President Biden at Signing of an Ex...   JANUARY 26, 2021   \n",
       "1097  REMARKS BY VICE PRESIDENT HARRIS AFTER RECEIVI...   JANUARY 26, 2021   \n",
       "1098  Remarks by President Biden at Signing of Execu...   JANUARY 25, 2021   \n",
       "\n",
       "                                  Location   \n",
       "1                           Not determined  \\\n",
       "2     Eisenhower Executive Office Building   \n",
       "3                    Princeton, New Jersey   \n",
       "5                            Austin, Texas   \n",
       "6                     Hagerstown, Maryland   \n",
       "...                                    ...   \n",
       "1091              Harry S. Truman Building   \n",
       "1095                        Not determined   \n",
       "1096                        Not determined   \n",
       "1097                    Bethesda, Maryland   \n",
       "1098                        Not determined   \n",
       "\n",
       "                                                 Speech  \n",
       "1     6:47 P.M. EDT\\r\\n \\r\\nTHE PRESIDENT:  Well, th...  \n",
       "2     2:56 P.M. EDT\\r\\n\\r\\nTHE PRESIDENT:  Doctor, t...  \n",
       "3     THE VICE PRESIDENT:  Good morning, everyone.\\r...  \n",
       "5     5:44 P.M. CDT\\r\\n  \\r\\nTHE VICE PRESIDENT:  Go...  \n",
       "6     1:24 P.M. EDT\\r\\n\\r\\nTHE PRESIDENT:  Please, h...  \n",
       "...                                                 ...  \n",
       "1091  THE VICE PRESIDENT:  Thank you, Secretary Blin...  \n",
       "1095  4:50 P.M. EST\\r\\n\\r\\n     THE PRESIDENT:  Than...  \n",
       "1096  2:06 P.M. EST \\r\\n     THE PRESIDENT:  Good af...  \n",
       "1097  3:53 P.M. EST\\r\\n\\r\\n     THE VICE PRESIDENT: ...  \n",
       "1098  3:42 P.M. EST\\r\\n\\r\\n     THE PRESIDENT:  Good...  \n",
       "\n",
       "[637 rows x 4 columns]"
      ]
     },
     "execution_count": 6,
     "metadata": {},
     "output_type": "execute_result"
    }
   ],
   "source": [
    "cleaned_df"
   ]
  },
  {
   "cell_type": "code",
   "execution_count": 7,
   "metadata": {},
   "outputs": [
    {
     "name": "stderr",
     "output_type": "stream",
     "text": [
      "/var/folders/w0/tssy0xz54jld1pjjx8pl73lm0000gn/T/ipykernel_42809/2711161562.py:1: SettingWithCopyWarning: \n",
      "A value is trying to be set on a copy of a slice from a DataFrame.\n",
      "Try using .loc[row_indexer,col_indexer] = value instead\n",
      "\n",
      "See the caveats in the documentation: https://pandas.pydata.org/pandas-docs/stable/user_guide/indexing.html#returning-a-view-versus-a-copy\n",
      "  cleaned_df[\"Speech\"] = cleaned_df[\"Speech\"].str.replace(\"\\r\\n\", \"\")\n"
     ]
    },
    {
     "data": {
      "text/plain": [
       "'6:47 P.M. EDT THE PRESIDENT:  Well, thank you very much.  And I thought I saw Fred Sears in that picture.  PARTICIPANT: You have. THE PRESIDENT:  And, by the way, you know, I owe — I owe Fred a debt of gratitude.  Years and years ago, he — he’s the reason why my first wife ended up marrying me.  We flipped a coin.  I said I wanted to go talk to her first, down in Flor- — in the Bahamas on spring break.  And another guy named Mike McCrann wanted to see her.  He said, “I’ll flip a coin.”  And I won the toss.  Thank you, Fred.  I’m indebted to you, pal. All kidding aside, look, I want to thank Lisa.  Look, you’re all a big part of — she’s a big part of why I got elected — all of you are — national co-chair of the campaign, helped lead the Vice Presidential Selection Committee, and a great partner, and someone I trust completely.  When Lisa ran for Congress, she’d say, “When Lisa goes to Washington, we all go to Washington.”  Well, that’s Lisa.  She brings everybody along.  Doesn’t leave anybody behind.  Whether it’s the economy or jobs or housing, public safety, environmental justice, the rights of working people, she’s always there, always looking for solutions to bridge the divides.  And we got some real divides these days.  She’s always working for people and — and it’s — she takes it personally.  I mean, she — she gets engaged.  And we all know it runs in the family.  Ted, you and I have known each other for a long time.  You were a significant public official, but you’re also probably one of the best college basketball players in history.  Not a joke.  He was an all-American. And, Ted, we’ve known each other, as I’ve said, a long time.  And, Marla, you used to work for my Senate office.  I didn’t think I could make it without her, but I’m working — I’m hanging in there.  But, Marla, thank you. Look, so many of you on the call today are like family, and I want to thank you all for your support.  We’re less than 30 days away from the midterms, and the stakes are clear.  The right to choose is on the ballot.  Your Social Security you paid for your whole life is on the ballot.  The safety of our kids and gun violence is on the ballot.  Literally, the survival of the planet is on the battol [sic] — on the ballot.  And your right to vote.  And democracy itself on — is on the ballot. And, by the way, I point out that the vast majority of American people cite their concerns about the maintenance of our democracy as being a genuine concern.  That hadn’t been the case for God knows — anyway, well, that’s unusual.  And I know it’s been a rough four or five years around the country, but there’s some bright spots.  You know, when we came to office, the economy was flat on its back.  We were — had a high unemployment rate.  Things didn’t look good at all.  Only 2 million people had been vaccinated. But we — now there’s nearly — we created 10 million jobs.  They tell me — the historians tell me that more than — more jobs created at this point in the presidency than any President on record, with your help. We have record employment of 3.5 percent.  We’ve created over — almost 700,000 manufacturing jobs. This — you know, the story — look, it — it’s been real clear: “Made in America” is no longer just a slogan.  It’s a reality. IBM — I was just there with them up — up in Upstate New York.  IBM is investing $20 billion to manufacture advanced quantum computers here in America.  The company Micron is investing $100 billion to manufacture computer chips — the biggest investment of its kind in America.  And it’s doing it up in Syracuse, New York. SK, one of the largest conglomerates in South Korea — it’s the second largest, I think, if I’m not mistaken — makes everything from semiconductors to pharmaceuticals.  They’ve committed to invest $50 billion in investments in America. And we still have a lot of work to do, but we’re building a stronger economy than we’ve had before by a longshot and — one that is built from the middle out and the bottom up. As Ted can tell you — your dad — I’m not a big trickle-down guy.  I — you know, when we build from the middle out, everybody does well.  The wealthy do very well and the middle class does well, and the poor have a way up.  And so, it — so it matters. And yet, you know, we — Republicans have a very different view.  And, by the way, if you ask anybody what is the Republican platform now — I’m not joking; I’m being deadly earnest.  The Republican platform is basically they just want to undo what we’ve done.  You know, they — attack Democrats.  They really don’t want to see their — they don’t they want us to see their plan. Well, guess what?  The guy in charge of the Senate races and the House races is talking about the need to change — put Social Security on the block every five years.  But then, there’s a senior senator from the state of Wisconsin, he comes along and says, “No, we should do it every year.”  Meaning, if you don’t vote to reauthorize Medicare, Medicaid, and Social Security, they’re gone or you can amend it and change it.  That’s a totally different thing. And — but, you know, we need to focus on this November. Let’s start with inflation.  I think about inflation the way my dad used to talk about it, the way so many of you talk about it around the kitchen table: How much of your monthly bills are you able to pay?  And after they’re all paid and your necessities are paid, is there enough breathing room left just to have a little bit of space?  Just a little bit of space. Well, we’re giving families a lot more breathing room.  We passed the Inflation Reduction Act that is going to give Medicare the power to negotiate lower prescription drug costs. By the way, we pay the highest — the highest drug costs of any major nation in the world — by a longshot.  It locks in savings on healthcare premiums for millions of people on the Affordable Care Act.  And it saves families thousands of dollars in energy bills because of the ability to weatherize your home, reduce costs, and deal with major investments that are — you get tax benefits from investing in solar and — even — and what it does to ordinary families when they have to replace the coffee machine, the refrigerator, whatever.  You get a tax credit for using the most efficient — most efficient new machines.  And for the first time in a long time, we’re going to make sure the biggest corporations begin to pay their fair share or at least close to their fair share in federal taxes. You know, there were three — of the Fortune 500 companies, there were, I think, 55 or 56 who, in the year 2000, made $40 billion and they didn’t pay a single penny in federal taxes.  Not a single penny in corporate taxes.  Now they have to pay a minimum of 15 percent.  And, folks, no one — no one — no one making less than $400,000 had one single penny of their taxes — federal taxes increased.  We’re doing all this while we’re reducing the federal debt.  We reduced the debt last year by $350 billion — so much for “big spending Democrats”; more than a trillion dollars this year; and another $300 billion over the next decade because of the ability of Medicaid to negotiate drug prices. And every single — every single Democrat joined Lisa and voted for the Inflation Reduction Act, but every single Republican — every one — voted against it.  Not only that, now they’re telling us their number-one priority is to repeal the Inflation Reduction Act if they gain control of the Congress, which means they’re going to wipe out those benefits.  They’re going to — right now what we passed is: Nobody who is on Medicare will have to pay more than $12,000 [sic] a year.  I mean — excuse me — $2,000 a year for prescriptions.  No matter how much the prescription costs, there’s a $2,000 cap on prescriptions.  A $35-a-month cap on insulin for folks on Medicare.  It goes away.  And these things go away if they win.  And, by the way, it only cost the companies a total of 10 bucks to make that insulin.  That’s all it costs to make it and package it.  Savings on healthcare premiums under the Affordable Care Act go away that — we saved a family of four $2,400 a year because they got a better coverage now.  And they’re still determined to repeal the Affordable Care Act.  Remember, they — they’ve tried it like 50 times, right?  Well, not 50 — probably 20, 25 times in the previous year — when we ran and a year before that.  And what were they doing?  They would take away the only protection someone who has a pre-existing condition has, who can’t afford private insurance — is to rely on the Affordable Care Act.  To take that away, pre-existing conditions raise the premiums exponentially. And if Republicans get their way, they’re going to get rid of the corporate minimum tax as well.  The biggest corporations, as I said, pay zero in federal income tax.  Now they got to pay 15 percent.  Republicans are also coming after Social Security and Medicare as well.  The senator in charge of electing Democrats [sic] — I repeat this because it’s important — to the U.S. Senate this year — electing Republicans, I should say — has proposed a plan to put Social Security on the chopping block every five years.  And that means: Every five years, Congress will have to vote to cut, reduce, completely eliminate, or increase Social Security and Medicare.  What do you think they’re going to do?  What do you think they’re going to be able to play with that? And we’ve been paying — you’ve been paying into Social Security since the time you started working as a 16-year-old. And then there’s Senator Ron Johnson of Wisconsin.  I spoke — where it bears repeating.  He thinks five years is too long to wait.  He thinks every single year, Social Security and Medicare should be on the chopping block — every single year.  And if Congress doesn’t vote to affirmatively keep it, it goes away.  It’s not just Social Security; it’s Medicare as well.  He wants to put everything else on the federal — veterans’ benefits are at risk, the whole deal.  I don’t know where these guys come from.  And I hope you all saw the news report that describes Republicans who voted against the infrastructure bill attacking me and Democrats, what they call “socialism,” “radical spending,” “rush to irresponsibility.”  What they’re talking about is they’re talking about my forgiving debt for the average person making less than $75,000 a year for student debt.  If for five — if you had — for $10,000.  And if you had a Pell Grant, it was — it was more than that.  Now, Republicans are quietly, privately sending letters to my administration asking for the money back, taking away — talking about how important the projects are for their districts.  But here’s the other thing: When we passed the le- — when we pass the legislation relating to — to the infrastructure bill, you know, only about 15, 16 of them voted for it.  But guess what?  Now they’re out there holding press conferences, saying, “The money for this bridge and the money for this road and the money for…”  All of this was done, and they voted against the legislation, but they’re taking credit for it now.  Seriously.  And I’ve got to say, I was surprised to see there are so many socialists in the Republican Party.  You know, they called us the “socialists.”  Republicans are also coming after your freedoms on choice.  Lisa and I are Democrats who want to codify Roe v. Wade.  Republicans want a national ban with no exception for rape or incest, and they’re going to criminalize doctors and nurses.  I could go on, but the bottom line is simple: If Republicans take control the Congress, historic victories we just won for the American people are going to be taken away.  Every kitchen table cost was going to go — are — under our position is going to go down.  Your freedoms are going to be at — at greater risk.  But when it comes to electing the next Congress, it’s not a referendum; it’s a choice between two different ways of looking at our country.  Democrats got a lot done.  We have so much more to do.  And it’s understandable why people know we have so much more to do. For example, we finally, for the first time in almost 30 years, got gun legislation passed.  But it didn’t include banning assault weapons.  I’m going to get that done: banning assault weapons.  If we expand our majorities in the House and Senate, we’re going to do a lot, and we need Lisa.  And I mean it sincerely: We need Lisa.  A lot of her colleagues look to her and look to her judgment.  And she can cross the aisle and get some Republicans to move on some of our things.  So it really matters. We cannot afford to lose our majority in the House, and we have to increase our majority in the Senate.  We’re 50-50 now. And I just think — I apologize, I’m only supposed to have spoken a few minutes to you, but there’s so much more to say.  I don’t want to keep you here, but I really, really think it’s important that we understand how much is at stake.  You know, like I said, it’s not political polling.  Look at what — they were asked — the broad polls done by the networks.  The American people are, for the first time in God knows how long, worried about whether we can keep our democracy.  Not a joke.  Who’s going to count the votes?  Will it be the state legislature that can make a determination of who won the election?  Things — I could go on and on.  There’s so much at stake.  So, I view this — this off-year election as one of the most important elections that I’ve been engaged in, because a lot can change because the institutions have changed.  The Supreme Court is more of an advocacy group these days than it is a — evenhanded about it.  So there’s a lot of stake.  I strongly urge you to do all you can to continue to help Lisa.  And I’m sure — I have confidence in her.  And she’s going to — she has a long, long future.  She’s going to make a big difference in this country.  So, I want to say God bless you all.  And may God protect our troops.  Thank you. REPRESENTATIVE BLUNT ROCHESTER:  Mr. President, thank you so much.  I appreciate you saying I have a long, long history.  Many people on this call know I turn 60 this year, so it might not be as long as everybody thinks. THE PRESIDENT:  What?  I thought you were turning 30.  (Laughter.)  REPRESENTATIVE BLUNT ROCHESTER:  Double that.  And — but I have to say that being there at the very beginning of you making the decision to run, at the time in our history that you did — again, I am so proud.  You have been able and we have been able to do some incredible things. I started with: recover, rebuild and restore.  Because, number one, we had to really diligently recover from a pandemic: putting shots in arms, getting businesses to stay open.  We’ve got some doctors and others on this line that were helpful in those efforts too, with the American Rescue Plan and to be able to recover.  To rebuild, with the Bipartisan Infrastructure legislation, our roads, our bridges, our ports, broadband investments in the state of Delaware like we’ve never seen before.  And then you just look at everything from the PACT Act for our veterans.  You look at what we’ve done for the Safer Communities, as we mentioned.  That was also something — 30 years — that you started years ago to work on for gun safety.  And then the — again, you mentioned the Inflation Reduction Act.  And we didn’t even mention CHIPS and Science.  I mean, there are so many things that you’ve been able to accomplish and we’ve been able to with the slimmest of slim majorities in the House and hardly any majority at all in the Senate.  And so — THE PRESIDENT:  I told the Vice President, every time she votes, she’s going to win.  REPRESENTATIVE BLUNT ROCHESTER:  Yeah. THE PRESIDENT:  And that turned out to be true. REPRESENTATIVE BLUNT ROCHESTER:  And you didn’t even mention the first Black woman Supreme Court justice.  So, in two years — THE PRESIDENT:  I’m proud of that.  REPRESENTATIVE BLUNT ROCHESTER:  This has been two years that you have done what some presidents don’t get done in a lifetime.  And so, I just want to thank you so much for your support.  I want to tell the people that are on this — this Zoom that this race does matter and means a lot.  It means a lot to me because I want to represent Delaware in Congress.  And as you said in the beginning, everybody on here probably knows: When Lisa goes to Washington, we all go to Washington.  That’s our theme.  And I am just grateful to be of service right now.  And we thank you so much for all that you have done for this country and all that you will do.  And know that just like you have our backs, we’ve got your back too, Mr. President.  We’ve got your back, too. THE PRESIDENT:  Well, I can tell you, I see a lot of people on this call I’m seeing now for the first time, like Robby Buccini.  And the Buccinis helped me so much.  They were raised in my living room like my son Beau and Hunter were raised in theirs.  I look out there and I see people that have been around for a long time like the Conways, who’ve been helping me, and — no, I really mean it, Joe.  And I — I just think there’s so many people.  And Betsy, I — you come from a family of real Democrats, and you’re doing a hell of a job.  I just — I’m going to get in trouble because I’m going to miss somebody on the screen here.  But I just think it really matters.  And there’s a lot — a lot we can do.  And look, a lot we’re doing, our kids’ future depends on it.  We are really — REPRESENTATIVE BLUNT ROCHESTER:  Yeah. THE PRESIDENT:  We’re at a real inflection point in world history.  Things are changing, and the decisions we make the last four or five years and the next four or five years are going to determine what this country looks like for the next four or five generations.  For real. REPRESENTATIVE BLUNT ROCHESTER:  And you’ve made — you’ve — THE PRESIDENT:  In domestic policy and foreign policy — anyway, I’m going on too long and keeping you too long.  Thank you for helping, Lisa.  And I’m supposed to go deal with a little issue having to do with Ukraine.  So, thank you. REPRESENTATIVE BLUNT ROCHESTER:  Thank you again, sir.  Thank you, Mr. President.  Thank you so much. 7:06 P.M. EDT'"
      ]
     },
     "execution_count": 7,
     "metadata": {},
     "output_type": "execute_result"
    }
   ],
   "source": [
    "cleaned_df[\"Speech\"] = cleaned_df[\"Speech\"].str.replace(\"\\r\\n\", \"\")\n",
    "cleaned_df.iloc[0][\"Speech\"]"
   ]
  },
  {
   "cell_type": "code",
   "execution_count": 8,
   "metadata": {},
   "outputs": [
    {
     "name": "stderr",
     "output_type": "stream",
     "text": [
      "/var/folders/w0/tssy0xz54jld1pjjx8pl73lm0000gn/T/ipykernel_42809/551961164.py:4: SettingWithCopyWarning: \n",
      "A value is trying to be set on a copy of a slice from a DataFrame.\n",
      "Try using .loc[row_indexer,col_indexer] = value instead\n",
      "\n",
      "See the caveats in the documentation: https://pandas.pydata.org/pandas-docs/stable/user_guide/indexing.html#returning-a-view-versus-a-copy\n",
      "  cleaned_df[\"Date_time\"] = pd.to_datetime(cleaned_df[\"Date_time\"], format=\"%B %d, %Y\")\n",
      "/var/folders/w0/tssy0xz54jld1pjjx8pl73lm0000gn/T/ipykernel_42809/551961164.py:7: SettingWithCopyWarning: \n",
      "A value is trying to be set on a copy of a slice from a DataFrame.\n",
      "Try using .loc[row_indexer,col_indexer] = value instead\n",
      "\n",
      "See the caveats in the documentation: https://pandas.pydata.org/pandas-docs/stable/user_guide/indexing.html#returning-a-view-versus-a-copy\n",
      "  cleaned_df[\"unix_time\"] = cleaned_df[\"Date_time\"].apply(lambda x: int(x.timestamp()))\n"
     ]
    },
    {
     "data": {
      "text/html": [
       "<div>\n",
       "<style scoped>\n",
       "    .dataframe tbody tr th:only-of-type {\n",
       "        vertical-align: middle;\n",
       "    }\n",
       "\n",
       "    .dataframe tbody tr th {\n",
       "        vertical-align: top;\n",
       "    }\n",
       "\n",
       "    .dataframe thead th {\n",
       "        text-align: right;\n",
       "    }\n",
       "</style>\n",
       "<table border=\"1\" class=\"dataframe\">\n",
       "  <thead>\n",
       "    <tr style=\"text-align: right;\">\n",
       "      <th></th>\n",
       "      <th>Title</th>\n",
       "      <th>Date_time</th>\n",
       "      <th>Location</th>\n",
       "      <th>Speech</th>\n",
       "      <th>unix_time</th>\n",
       "    </tr>\n",
       "  </thead>\n",
       "  <tbody>\n",
       "    <tr>\n",
       "      <th>1</th>\n",
       "      <td>Remarks by President Biden in a Virtual Recept...</td>\n",
       "      <td>2022-10-11</td>\n",
       "      <td>Not determined</td>\n",
       "      <td>6:47 P.M. EDT THE PRESIDENT:  Well, thank you ...</td>\n",
       "      <td>1665446400</td>\n",
       "    </tr>\n",
       "    <tr>\n",
       "      <th>2</th>\n",
       "      <td>Remarks by President Biden at the Summit on Fi...</td>\n",
       "      <td>2022-10-11</td>\n",
       "      <td>Eisenhower Executive Office Building</td>\n",
       "      <td>2:56 P.M. EDTTHE PRESIDENT:  Doctor, thank you...</td>\n",
       "      <td>1665446400</td>\n",
       "    </tr>\n",
       "    <tr>\n",
       "      <th>3</th>\n",
       "      <td>Remarks by Vice President Harris at a Democrat...</td>\n",
       "      <td>2022-10-10</td>\n",
       "      <td>Princeton, New Jersey</td>\n",
       "      <td>THE VICE PRESIDENT:  Good morning, everyone. A...</td>\n",
       "      <td>1665360000</td>\n",
       "    </tr>\n",
       "    <tr>\n",
       "      <th>5</th>\n",
       "      <td>Remarks by Vice President Harris in a Keynote ...</td>\n",
       "      <td>2022-10-09</td>\n",
       "      <td>Austin, Texas</td>\n",
       "      <td>5:44 P.M. CDT  THE VICE PRESIDENT:  Good eveni...</td>\n",
       "      <td>1665273600</td>\n",
       "    </tr>\n",
       "    <tr>\n",
       "      <th>6</th>\n",
       "      <td>Remarks by President Biden on the Economy and ...</td>\n",
       "      <td>2022-10-07</td>\n",
       "      <td>Hagerstown, Maryland</td>\n",
       "      <td>1:24 P.M. EDTTHE PRESIDENT:  Please, have a se...</td>\n",
       "      <td>1665100800</td>\n",
       "    </tr>\n",
       "    <tr>\n",
       "      <th>...</th>\n",
       "      <td>...</td>\n",
       "      <td>...</td>\n",
       "      <td>...</td>\n",
       "      <td>...</td>\n",
       "      <td>...</td>\n",
       "    </tr>\n",
       "    <tr>\n",
       "      <th>1091</th>\n",
       "      <td>Remarks By Vice President Harris To State Depa...</td>\n",
       "      <td>2021-02-04</td>\n",
       "      <td>Harry S. Truman Building</td>\n",
       "      <td>THE VICE PRESIDENT:  Thank you, Secretary Blin...</td>\n",
       "      <td>1612396800</td>\n",
       "    </tr>\n",
       "    <tr>\n",
       "      <th>1095</th>\n",
       "      <td>Remarks by President Biden on the Fight to Con...</td>\n",
       "      <td>2021-01-26</td>\n",
       "      <td>Not determined</td>\n",
       "      <td>4:50 P.M. EST     THE PRESIDENT:  Thank you fo...</td>\n",
       "      <td>1611619200</td>\n",
       "    </tr>\n",
       "    <tr>\n",
       "      <th>1096</th>\n",
       "      <td>Remarks by President Biden at Signing of an Ex...</td>\n",
       "      <td>2021-01-26</td>\n",
       "      <td>Not determined</td>\n",
       "      <td>2:06 P.M. EST      THE PRESIDENT:  Good aftern...</td>\n",
       "      <td>1611619200</td>\n",
       "    </tr>\n",
       "    <tr>\n",
       "      <th>1097</th>\n",
       "      <td>REMARKS BY VICE PRESIDENT HARRIS AFTER RECEIVI...</td>\n",
       "      <td>2021-01-26</td>\n",
       "      <td>Bethesda, Maryland</td>\n",
       "      <td>3:53 P.M. EST     THE VICE PRESIDENT:  Well, s...</td>\n",
       "      <td>1611619200</td>\n",
       "    </tr>\n",
       "    <tr>\n",
       "      <th>1098</th>\n",
       "      <td>Remarks by President Biden at Signing of Execu...</td>\n",
       "      <td>2021-01-25</td>\n",
       "      <td>Not determined</td>\n",
       "      <td>3:42 P.M. EST     THE PRESIDENT:  Good afterno...</td>\n",
       "      <td>1611532800</td>\n",
       "    </tr>\n",
       "  </tbody>\n",
       "</table>\n",
       "<p>637 rows × 5 columns</p>\n",
       "</div>"
      ],
      "text/plain": [
       "                                                  Title  Date_time   \n",
       "1     Remarks by President Biden in a Virtual Recept... 2022-10-11  \\\n",
       "2     Remarks by President Biden at the Summit on Fi... 2022-10-11   \n",
       "3     Remarks by Vice President Harris at a Democrat... 2022-10-10   \n",
       "5     Remarks by Vice President Harris in a Keynote ... 2022-10-09   \n",
       "6     Remarks by President Biden on the Economy and ... 2022-10-07   \n",
       "...                                                 ...        ...   \n",
       "1091  Remarks By Vice President Harris To State Depa... 2021-02-04   \n",
       "1095  Remarks by President Biden on the Fight to Con... 2021-01-26   \n",
       "1096  Remarks by President Biden at Signing of an Ex... 2021-01-26   \n",
       "1097  REMARKS BY VICE PRESIDENT HARRIS AFTER RECEIVI... 2021-01-26   \n",
       "1098  Remarks by President Biden at Signing of Execu... 2021-01-25   \n",
       "\n",
       "                                  Location   \n",
       "1                           Not determined  \\\n",
       "2     Eisenhower Executive Office Building   \n",
       "3                    Princeton, New Jersey   \n",
       "5                            Austin, Texas   \n",
       "6                     Hagerstown, Maryland   \n",
       "...                                    ...   \n",
       "1091              Harry S. Truman Building   \n",
       "1095                        Not determined   \n",
       "1096                        Not determined   \n",
       "1097                    Bethesda, Maryland   \n",
       "1098                        Not determined   \n",
       "\n",
       "                                                 Speech   unix_time  \n",
       "1     6:47 P.M. EDT THE PRESIDENT:  Well, thank you ...  1665446400  \n",
       "2     2:56 P.M. EDTTHE PRESIDENT:  Doctor, thank you...  1665446400  \n",
       "3     THE VICE PRESIDENT:  Good morning, everyone. A...  1665360000  \n",
       "5     5:44 P.M. CDT  THE VICE PRESIDENT:  Good eveni...  1665273600  \n",
       "6     1:24 P.M. EDTTHE PRESIDENT:  Please, have a se...  1665100800  \n",
       "...                                                 ...         ...  \n",
       "1091  THE VICE PRESIDENT:  Thank you, Secretary Blin...  1612396800  \n",
       "1095  4:50 P.M. EST     THE PRESIDENT:  Thank you fo...  1611619200  \n",
       "1096  2:06 P.M. EST      THE PRESIDENT:  Good aftern...  1611619200  \n",
       "1097  3:53 P.M. EST     THE VICE PRESIDENT:  Well, s...  1611619200  \n",
       "1098  3:42 P.M. EST     THE PRESIDENT:  Good afterno...  1611532800  \n",
       "\n",
       "[637 rows x 5 columns]"
      ]
     },
     "execution_count": 8,
     "metadata": {},
     "output_type": "execute_result"
    }
   ],
   "source": [
    "import datetime\n",
    "\n",
    "# Convert the 'date' column to datetime objects\n",
    "cleaned_df[\"Date_time\"] = pd.to_datetime(cleaned_df[\"Date_time\"], format=\"%B %d, %Y\")\n",
    "\n",
    "# Convert the datetime objects to Unix time format\n",
    "cleaned_df[\"unix_time\"] = cleaned_df[\"Date_time\"].apply(lambda x: int(x.timestamp()))\n",
    "\n",
    "cleaned_df"
   ]
  },
  {
   "attachments": {},
   "cell_type": "markdown",
   "metadata": {},
   "source": [
    "## Establish a Vector Database and Schema\n",
    "\n",
    "With all of our datacleaning done, it's time to set up our vector database, Milvus Lite. We start by declaring some constants before starting a server and establishing a connection."
   ]
  },
  {
   "cell_type": "code",
   "execution_count": 9,
   "metadata": {},
   "outputs": [],
   "source": [
    "COLLECTION_NAME = \"white_house_2021_2022\"\n",
    "DIMENSION = 384\n",
    "BATCH_SIZE = 128\n",
    "TOPK = 3"
   ]
  },
  {
   "cell_type": "code",
   "execution_count": 10,
   "metadata": {},
   "outputs": [
    {
     "name": "stderr",
     "output_type": "stream",
     "text": [
      "\u001b[93m[get_server_version] retry:4, cost: 0.27s, reason: <_InactiveRpcError: StatusCode.UNAVAILABLE, internal: Milvus Proxy is not ready yet. please wait>\u001b[0m\n"
     ]
    },
    {
     "name": "stdout",
     "output_type": "stream",
     "text": [
      "\n",
      "\n",
      "    __  _________ _   ____  ______\n",
      "   /  |/  /  _/ /| | / / / / / __/\n",
      "  / /|_/ // // /_| |/ / /_/ /\\ \\\n",
      " /_/  /_/___/____/___/\\____/___/ {Lite}\n",
      "\n",
      " Welcome to use Milvus!\n",
      "\n",
      " Version:   v2.2.8-lite\n",
      " Process:   42841\n",
      " Started:   2023-05-17 15:16:44\n",
      " Config:    /Users/yujiantang/.milvus.io/milvus-server/2.2.8/configs/milvus.yaml\n",
      " Logs:      /Users/yujiantang/.milvus.io/milvus-server/2.2.8/logs\n",
      "\n",
      " Ctrl+C to exit ...\n"
     ]
    },
    {
     "data": {
      "text/plain": [
       "'v2.2.8-lite'"
      ]
     },
     "execution_count": 10,
     "metadata": {},
     "output_type": "execute_result"
    }
   ],
   "source": [
    "from milvus import default_server\n",
    "from pymilvus import connections, utility\n",
    "\n",
    "default_server.start()\n",
    "connections.connect(host=\"127.0.0.1\", port=default_server.listen_port)\n",
    "\n",
    "utility.get_server_version()"
   ]
  },
  {
   "attachments": {},
   "cell_type": "markdown",
   "metadata": {},
   "source": [
    "Just to make sure that we are starting from a blank slate, we check for the existence of any collection with the same name as the one we chose and drop it."
   ]
  },
  {
   "cell_type": "code",
   "execution_count": 11,
   "metadata": {},
   "outputs": [],
   "source": [
    "if utility.has_collection(COLLECTION_NAME):\n",
    "    utility.drop_collection(COLLECTION_NAME)"
   ]
  },
  {
   "attachments": {},
   "cell_type": "markdown",
   "metadata": {},
   "source": [
    "Now we establish our schema. For this data set, we have four attributes to work off - the title of the speech, the date the speech was given, the location where the speech was given, and the speech itself. We want to perform a semantic search on the content of the actual speech so the schema will contain the title, the date, the location, and a vector embedding of the actual speech.\n",
    "\n",
    "For each `VARCHAR` datatype (string format) we give a max length. In this case, none of these max lengths are hit, but serve as a rough upper bound estimate."
   ]
  },
  {
   "cell_type": "code",
   "execution_count": 12,
   "metadata": {},
   "outputs": [],
   "source": [
    "from pymilvus import FieldSchema, CollectionSchema, DataType, Collection\n",
    "\n",
    "# object should be inserted in the format of (title, date, location, speech embedding)\n",
    "fields = [\n",
    "    FieldSchema(name=\"id\", dtype=DataType.INT64, is_primary=True, auto_id=True),\n",
    "    FieldSchema(name=\"title\", dtype=DataType.VARCHAR, max_length=500),\n",
    "    FieldSchema(name=\"date\", dtype=DataType.VARCHAR, max_length=100),\n",
    "    FieldSchema(name=\"location\", dtype=DataType.VARCHAR, max_length=200),\n",
    "    FieldSchema(name=\"embedding\", dtype=DataType.FLOAT_VECTOR, dim=DIMENSION)\n",
    "]\n",
    "schema = CollectionSchema(fields=fields)\n",
    "collection = Collection(name=COLLECTION_NAME, schema=schema)"
   ]
  },
  {
   "attachments": {},
   "cell_type": "markdown",
   "metadata": {},
   "source": [
    "With a vector database server up and running as well as a collection and schema established, the final thing to do before inserting the vectors is to establish our vector index. For this example, we use an `IVF_FLAT` index on an `L2` distance metric and 128 clusters (`nlist`)."
   ]
  },
  {
   "cell_type": "code",
   "execution_count": 13,
   "metadata": {},
   "outputs": [],
   "source": [
    "index_params = {\n",
    "    \"index_type\": \"IVF_FLAT\",\n",
    "    \"metric_type\": \"L2\",\n",
    "    \"params\": {\"nlist\": 128},\n",
    "}\n",
    "collection.create_index(field_name=\"embedding\", index_params=index_params)\n",
    "collection.load()"
   ]
  },
  {
   "attachments": {},
   "cell_type": "markdown",
   "metadata": {},
   "source": [
    "## Get Vector Embeddings and Populate the Database \n",
    "\n",
    "Here we use the `SentenceTransformer` library to get our vector embeddings for the speeches and populate our Milvus instance with our newly generated vector embeddings. For this example, we use the [MiniLM L6 v2](https://huggingface.co/sentence-transformers/all-MiniLM-L6-v2) transformer to get a vector embedding."
   ]
  },
  {
   "cell_type": "code",
   "execution_count": 14,
   "metadata": {},
   "outputs": [],
   "source": [
    "from sentence_transformers import SentenceTransformer\n",
    "\n",
    "transformer = SentenceTransformer('all-MiniLM-L6-v2')"
   ]
  },
  {
   "attachments": {},
   "cell_type": "markdown",
   "metadata": {},
   "source": [
    "We create a function, `embed_insert`, that gets the embeddings for a batch of speeches, and then inserts that batch into our Milvus instance."
   ]
  },
  {
   "cell_type": "code",
   "execution_count": 15,
   "metadata": {},
   "outputs": [],
   "source": [
    "# expects a list of [title, date, location, speech]\n",
    "def embed_insert(data: list):\n",
    "    embeddings = transformer.encode(data[3])\n",
    "    ins = [\n",
    "        data[0],\n",
    "        data[1],\n",
    "        data[2],\n",
    "        [x for x in embeddings]\n",
    "    ]\n",
    "    collection.insert(ins)"
   ]
  },
  {
   "attachments": {},
   "cell_type": "markdown",
   "metadata": {},
   "source": [
    "With our helper function written, we are ready to embed and insert the text. First, we turn our `pandas` dataframe into the right format, a list of lists, to insert. For this example, we need a list of four lists. The inner lists correspond to the title, date, location, and speech respectively. We batch the lists and call the `embed_insert` function we wrote above on each of them. Finally, when all of the data has been inserted, we `flush` the collection to ensure that everything is indexed."
   ]
  },
  {
   "cell_type": "code",
   "execution_count": 16,
   "metadata": {},
   "outputs": [],
   "source": [
    "data_batch = [[], [], [], []]\n",
    "\n",
    "for title, date, location, speech in zip(cleaned_df.loc[:, \"Title\"], cleaned_df.loc[:, \"Date_time\"], cleaned_df.loc[:, \"Location\"], cleaned_df.loc[:, \"Speech\"]):\n",
    "    data_batch[0].append(title)\n",
    "    data_batch[1].append(str(date))\n",
    "    data_batch[2].append(location)\n",
    "    data_batch[3].append(speech)\n",
    "    if len(data_batch[0]) % BATCH_SIZE == 0:\n",
    "        embed_insert(data_batch)\n",
    "        data_batch = [[], [], [], []]\n",
    "\n",
    "# Embed and insert the remainder\n",
    "if len(data_batch[0]) != 0:\n",
    "    embed_insert(data_batch)\n",
    "\n",
    "# Call a flush to index any unsealed segments.\n",
    "collection.flush()"
   ]
  },
  {
   "attachments": {},
   "cell_type": "markdown",
   "metadata": {},
   "source": [
    "## Run a Semantic Search\n",
    "\n",
    "With the database populated, it's now possible to search all of the speeches based on their content. In this example, we search for a speech where the President speaks about renewable energy at NREL, and a speech where the Vice President and the Prime Minister of Canada both speak. We get the embeddings for these descriptions, and then search our vector database for the 3 speeches with the closest embeddings. \n",
    "\n",
    "We expect the first description to have the speech titled \"Remarks by President Biden During a Tour of the National Renewable Energy Laboratory\" in its results and the second description to have the speech titled \"REMARKS BY VICE PRESIDENT HARRIS AND PRIME MINISTER TRUDEAU OF CANADA BEFORE BILATERAL MEETING\" in its results."
   ]
  },
  {
   "cell_type": "code",
   "execution_count": 17,
   "metadata": {},
   "outputs": [
    {
     "name": "stdout",
     "output_type": "stream",
     "text": [
      "Title: The President speaks about the impact of renewable energy at the National Renewable Energy Lab.\n",
      "Search Time: 0.009615898132324219\n",
      "Results:\n",
      "Remarks by President Biden During a Tour of the National Renewable Energy Laboratory ---- 1.0144075155258179\n",
      "Press Gaggle by Vice President Harris Aboard Air Force Two Before Departure ---- 1.043080449104309\n",
      "Remarks by President Biden at the Virtual Leaders Summit on Climate Opening Session ---- 1.0471298694610596\n",
      "\n",
      "Title: The Vice President and the Prime Minister of Canada both speak.\n",
      "Search Time: 0.009615898132324219\n",
      "Results:\n",
      "REMARKS BY VICE PRESIDENT HARRIS AND PRIME MINISTER TRUDEAU OF CANADA BEFORE BILATERAL MEETING ---- 0.8196960687637329\n",
      "Remarks by Vice President Harris After Meeting to Discuss the Importance of Passing the Build Back Better Agenda ---- 0.9929051399230957\n",
      "Remarks by President Biden and Prime Minister Boris Johnson of the United Kingdom Before Bilateral Meeting ---- 1.0264476537704468\n",
      "\n"
     ]
    }
   ],
   "source": [
    "import time\n",
    "search_terms = [\"The President speaks about the impact of renewable energy at the National Renewable Energy Lab.\", \"The Vice President and the Prime Minister of Canada both speak.\"]\n",
    "\n",
    "# Search the database based on input text\n",
    "def embed_search(data):\n",
    "    embeds = transformer.encode(data) \n",
    "    return [x for x in embeds]\n",
    "\n",
    "search_data = embed_search(search_terms)\n",
    "\n",
    "start = time.time()\n",
    "res = collection.search(\n",
    "    data=search_data,  # Embeded search value\n",
    "    anns_field=\"embedding\",  # Search across embeddings\n",
    "    param={\"metric_type\": \"L2\",\n",
    "            \"params\": {\"nprobe\": 10}},\n",
    "    limit = TOPK,  # Limit to top_k results per search\n",
    "    output_fields=[\"title\"]  # Include title field in result\n",
    ")\n",
    "end = time.time()\n",
    "\n",
    "for hits_i, hits in enumerate(res):\n",
    "    print(\"Title:\", search_terms[hits_i])\n",
    "    print(\"Search Time:\", end-start)\n",
    "    print(\"Results:\")\n",
    "    for hit in hits:\n",
    "        print( hit.entity.get(\"title\"), \"----\", hit.distance)\n",
    "    print()"
   ]
  },
  {
   "attachments": {},
   "cell_type": "markdown",
   "metadata": {},
   "source": [
    "Clean up the server."
   ]
  },
  {
   "cell_type": "code",
   "execution_count": 18,
   "metadata": {},
   "outputs": [],
   "source": [
    "default_server.stop()"
   ]
  },
  {
   "cell_type": "code",
   "execution_count": 1,
   "metadata": {},
   "outputs": [
    {
     "ename": "ModuleNotFoundError",
     "evalue": "No module named 'pymilvus.milvus_client'",
     "output_type": "error",
     "traceback": [
      "\u001b[0;31m---------------------------------------------------------------------------\u001b[0m",
      "\u001b[0;31mModuleNotFoundError\u001b[0m                       Traceback (most recent call last)",
      "Cell \u001b[0;32mIn[1], line 1\u001b[0m\n\u001b[0;32m----> 1\u001b[0m \u001b[39mimport\u001b[39;00m \u001b[39mpymilvus\u001b[39;00m\u001b[39m.\u001b[39;00m\u001b[39mmilvus_client\u001b[39;00m\n",
      "\u001b[0;31mModuleNotFoundError\u001b[0m: No module named 'pymilvus.milvus_client'"
     ]
    }
   ],
   "source": []
  },
  {
   "cell_type": "code",
   "execution_count": null,
   "metadata": {},
   "outputs": [],
   "source": []
  }
 ],
 "metadata": {
  "kernelspec": {
   "display_name": "hw_milvus",
   "language": "python",
   "name": "python3"
  },
  "language_info": {
   "codemirror_mode": {
    "name": "ipython",
    "version": 3
   },
   "file_extension": ".py",
   "mimetype": "text/x-python",
   "name": "python",
   "nbconvert_exporter": "python",
   "pygments_lexer": "ipython3",
   "version": "3.10.11"
  },
  "orig_nbformat": 4
 },
 "nbformat": 4,
 "nbformat_minor": 2
}
