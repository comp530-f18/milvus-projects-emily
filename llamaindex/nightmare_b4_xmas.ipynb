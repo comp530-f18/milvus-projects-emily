{
 "cells": [
  {
   "cell_type": "code",
   "execution_count": null,
   "metadata": {},
   "outputs": [],
   "source": [
    "! pip install llama-index nltk milvus pymilvus openai python-dotenv requests"
   ]
  },
  {
   "cell_type": "code",
   "execution_count": 3,
   "metadata": {},
   "outputs": [],
   "source": [
    "from pathlib import Path\n",
    "import requests\n",
    "\n",
    "wiki_page = \"The Nightmare Before Christmas\"\n",
    "response = requests.get(\n",
    "    'https://en.wikipedia.org/w/api.php',\n",
    "    params={\n",
    "        'action': 'query',\n",
    "        'format': 'json',\n",
    "        'titles': wiki_page,\n",
    "        'prop': 'extracts',\n",
    "        'explaintext': True,\n",
    "    }\n",
    ").json()\n",
    "page = next(iter(response['query']['pages'].values()))\n",
    "wiki_text = page['extract']\n",
    "\n",
    "data_path = Path('halloween_data')\n",
    "if not data_path.exists():\n",
    "    Path.mkdir(data_path)\n",
    "\n",
    "with open(data_path / f\"{wiki_page}.txt\", 'w') as fp:\n",
    "    fp.write(wiki_text)"
   ]
  },
  {
   "cell_type": "code",
   "execution_count": 1,
   "metadata": {},
   "outputs": [],
   "source": [
    "import os\n",
    "from dotenv import load_dotenv\n",
    "import openai\n",
    "load_dotenv()\n",
    "openai.api_key = os.getenv(\"OPENAI_API_KEY\")\n",
    "ZILLIZ_URI = os.getenv(\"ZILLIZ_CLUSTER_01_URI\")\n",
    "ZILLIZ_TOKEN = os.getenv(\"ZILLIZ_CLUSTER_01_TOKEN\")"
   ]
  },
  {
   "cell_type": "code",
   "execution_count": 2,
   "metadata": {},
   "outputs": [],
   "source": [
    "from llama_index.vector_stores import MilvusVectorStore\n",
    "vdb = MilvusVectorStore(\n",
    "    uri = ZILLIZ_URI,\n",
    "    token = ZILLIZ_TOKEN,\n",
    "    collection_name = \"halloween\",\n",
    "    dim = 384\n",
    ")"
   ]
  },
  {
   "cell_type": "code",
   "execution_count": 3,
   "metadata": {},
   "outputs": [
    {
     "data": {
      "application/vnd.jupyter.widget-view+json": {
       "model_id": "14cb02072a1c420bb81fc2b22d4a782e",
       "version_major": 2,
       "version_minor": 0
      },
      "text/plain": [
       "Downloading (…)lve/main/config.json:   0%|          | 0.00/573 [00:00<?, ?B/s]"
      ]
     },
     "metadata": {},
     "output_type": "display_data"
    },
    {
     "data": {
      "application/vnd.jupyter.widget-view+json": {
       "model_id": "3351688c852b4828ace3dee639051c8c",
       "version_major": 2,
       "version_minor": 0
      },
      "text/plain": [
       "Downloading pytorch_model.bin:   0%|          | 0.00/134M [00:00<?, ?B/s]"
      ]
     },
     "metadata": {},
     "output_type": "display_data"
    },
    {
     "data": {
      "application/vnd.jupyter.widget-view+json": {
       "model_id": "51a3297213444855beed62f4c0b72add",
       "version_major": 2,
       "version_minor": 0
      },
      "text/plain": [
       "Downloading (…)okenizer_config.json:   0%|          | 0.00/352 [00:00<?, ?B/s]"
      ]
     },
     "metadata": {},
     "output_type": "display_data"
    },
    {
     "data": {
      "application/vnd.jupyter.widget-view+json": {
       "model_id": "f594b0a120d84f6d8b4a024e20473558",
       "version_major": 2,
       "version_minor": 0
      },
      "text/plain": [
       "Downloading (…)solve/main/vocab.txt:   0%|          | 0.00/232k [00:00<?, ?B/s]"
      ]
     },
     "metadata": {},
     "output_type": "display_data"
    },
    {
     "data": {
      "application/vnd.jupyter.widget-view+json": {
       "model_id": "f57b0982648246c6a0d210b69cb2bb89",
       "version_major": 2,
       "version_minor": 0
      },
      "text/plain": [
       "Downloading (…)/main/tokenizer.json:   0%|          | 0.00/466k [00:00<?, ?B/s]"
      ]
     },
     "metadata": {},
     "output_type": "display_data"
    },
    {
     "data": {
      "application/vnd.jupyter.widget-view+json": {
       "model_id": "2190d496bd1f4997830de87ba9ee84b7",
       "version_major": 2,
       "version_minor": 0
      },
      "text/plain": [
       "Downloading (…)cial_tokens_map.json:   0%|          | 0.00/112 [00:00<?, ?B/s]"
      ]
     },
     "metadata": {},
     "output_type": "display_data"
    }
   ],
   "source": [
    "from llama_index import ServiceContext\n",
    "from llama_index.embeddings import HuggingFaceEmbedding\n",
    "\n",
    "embed_model = HuggingFaceEmbedding(model_name=\"sentence-transformers/all-MiniLM-L12-v2\")"
   ]
  },
  {
   "cell_type": "code",
   "execution_count": 4,
   "metadata": {},
   "outputs": [],
   "source": [
    "from llama_index import SimpleDirectoryReader, VectorStoreIndex, StorageContext\n",
    "storage_context = StorageContext.from_defaults(vector_store=vdb)\n",
    "service_context = ServiceContext.from_defaults(embed_model=embed_model)\n",
    "documents = SimpleDirectoryReader(\"./halloween_data/\").load_data()\n",
    "vector_index = VectorStoreIndex.from_documents(documents, storage_context=storage_context, service_context=service_context)"
   ]
  },
  {
   "cell_type": "code",
   "execution_count": 5,
   "metadata": {},
   "outputs": [],
   "source": [
    "from llama_index.query_engine import CitationQueryEngine\n",
    "query_engine = CitationQueryEngine.from_args(\n",
    "    vector_index,\n",
    "    similarity_top_k=3,\n",
    "    # here we can control how granular citation sources are, the default is 512\n",
    "    citation_chunk_size=512,\n",
    ")"
   ]
  },
  {
   "cell_type": "code",
   "execution_count": 6,
   "metadata": {},
   "outputs": [],
   "source": [
    "response = query_engine.query(\"Who is the main character?\")"
   ]
  },
  {
   "cell_type": "code",
   "execution_count": 7,
   "metadata": {},
   "outputs": [
    {
     "data": {
      "text/plain": [
       "Response(response='The main character of the film is Jack Skellington [3].', source_nodes=[NodeWithScore(node=TextNode(id_='df9d135a-1d75-495b-98f9-7bd9bb53074c', embedding=None, metadata={}, excluded_embed_metadata_keys=[], excluded_llm_metadata_keys=[], relationships={<NodeRelationship.SOURCE: '1'>: RelatedNodeInfo(node_id='db86a242-c200-4ebc-b250-b93eb7248359', node_type=<ObjectType.DOCUMENT: '4'>, metadata={}, hash='ded676f2fd0e0961384fd0825dec0890c0cc107ca5e32ed7d9c8699835ba4c7a'), <NodeRelationship.PREVIOUS: '2'>: RelatedNodeInfo(node_id='e6d35439-9fb6-403c-93a4-02dd35602650', node_type=<ObjectType.TEXT: '1'>, metadata={}, hash='a231e8d77c4b946fffae70c868998c5ac6cd58cdfa8a88e46a97badbe27a640c'), <NodeRelationship.NEXT: '3'>: RelatedNodeInfo(node_id='38cbb6d0-f065-4243-8aeb-abd51663d866', node_type=<ObjectType.TEXT: '1'>, metadata={}, hash='e212192d580ac6d450c560ff904f6b78ed44007941ca861cf2131f97c81ecfc4')}, hash='67dde0fd810180b58df7c7882cee1460cd6c527dc8cca39b03b7541787661944', text='Source 1:\\n=== Filming ===\\nSelick and his team of animators began production in July 1991 in San Francisco, California, with a crew of over 120 workers, utilizing 20 sound stages for filming. Joe Ranft was hired from Disney as a storyboard supervisor, while Eric Leighton was hired to supervise animation. At the peak of production, 20 individual stages were simultaneously being used for filming. In total, there were 109,440 frames taken for the film. The work of Ray Harryhausen, Ladislas Starevich, Edward Gorey, Étienne Delessert, Gahan Wilson, Charles Addams, Jan Lenica, Francis Bacon, and Wassily Kandinsky influenced the filmmakers. Selick described the production design as akin to a pop-up book. In addition, Selick stated, \"When we reach Halloween Town, it\\'s entirely German Expressionism. When Jack enters Christmas Town, it\\'s an outrageous Dr. Seuss-esque setpiece. Finally, when Jack is delivering presents in the \\'Real World\\', everything is plain, simple and perfectly aligned.\" Vincent Price, Don Ameche, and James Earl Jones were considered to provide the narration for the film\\'s prologue; however, all proved difficult to cast, and the producers instead hired local voice artist Ed Ivory. Patrick Stewart provided the prologue narration for the film\\'s soundtrack.\\nOn the direction of the film, Selick reflected, \"It\\'s as though he [Burton] laid the egg, and I sat on it and hatched it. He wasn\\'t involved in a hands-on way, but his hand is in it. It was my job to make it look like \\'a Tim Burton film\\', which is not so different from my own films.\" When asked about Burton\\'s involvement, Selick claimed, \"I don\\'t want to take away from Tim, but he was not in San Francisco when we made it. He came up five times over two years, and spent no more than eight or ten days in total.\" Walt Disney Feature Animation contributed with digital effects and some second-layering traditional animation. Burton found production somewhat difficult, because he was simultaneously filming Batman Returns and pre-production of Ed Wood.The filmmakers constructed 227 puppets to represent the characters in the movie, with Jack Skellington having \"around four hundred heads\", allowing the expression of every possible emotion.\\n', start_char_idx=None, end_char_idx=None, text_template='{metadata_str}\\n\\n{content}', metadata_template='{key}: {value}', metadata_seperator='\\n'), score=0.7508259415626526), NodeWithScore(node=TextNode(id_='df9d135a-1d75-495b-98f9-7bd9bb53074c', embedding=None, metadata={}, excluded_embed_metadata_keys=[], excluded_llm_metadata_keys=[], relationships={<NodeRelationship.SOURCE: '1'>: RelatedNodeInfo(node_id='db86a242-c200-4ebc-b250-b93eb7248359', node_type=<ObjectType.DOCUMENT: '4'>, metadata={}, hash='ded676f2fd0e0961384fd0825dec0890c0cc107ca5e32ed7d9c8699835ba4c7a'), <NodeRelationship.PREVIOUS: '2'>: RelatedNodeInfo(node_id='e6d35439-9fb6-403c-93a4-02dd35602650', node_type=<ObjectType.TEXT: '1'>, metadata={}, hash='a231e8d77c4b946fffae70c868998c5ac6cd58cdfa8a88e46a97badbe27a640c'), <NodeRelationship.NEXT: '3'>: RelatedNodeInfo(node_id='38cbb6d0-f065-4243-8aeb-abd51663d866', node_type=<ObjectType.TEXT: '1'>, metadata={}, hash='e212192d580ac6d450c560ff904f6b78ed44007941ca861cf2131f97c81ecfc4')}, hash='67dde0fd810180b58df7c7882cee1460cd6c527dc8cca39b03b7541787661944', text='Source 2:\\nSally\\'s mouth movements \"were animated through the replacement method. During the animation process, […] only Sally\\'s face \\'mask\\' was removed in order to preserve the order of her long, red hair. Sally had ten types of faces, each made with a series of eleven expressions (e.g. eyes open and closed, and various facial poses) and synchronized mouth movements.\" The stop-motion figurine of Jack was reused in James and the Giant Peach (also directed by Selick) as Captain Jack.\\n\\n\\n== Soundtracks ==\\n\\nThe film\\'s soundtrack album was released in 1993 on Walt Disney Records. The film\\'s soundtrack contains bonus tracks, including a longer prologue and an extra epilogue, both narrated by Sir Patrick Stewart. For the film\\'s 2006 re-release in Disney Digital 3-D, a special edition of the soundtrack was released, featuring a bonus disc that contained covers of five of the film\\'s songs by Fall Out Boy, Panic! at the Disco, Marilyn Manson, Fiona Apple, and She Wants Revenge. Four original demo tracks by Elfman were also included. On September 30, 2008, Disney released the cover album Nightmare Revisited, featuring artists such as Amy Lee, Flyleaf, Korn, Rise Against, Plain White T\\'s, The All-American Rejects, and many more.American gothic rock band London After Midnight featured a cover of \"Sally\\'s Song\" on their 1998 album Oddities.\\nLiLi Roquelin performed a French cover of \"Sally\\'s Song\" on her album Will you hate the rest of the world or will you renew your life? in 2010.\\nPentatonix released a cover of \"Making Christmas\" for their 2018 Christmas album Christmas Is Here!.In 2003, the Disneyland Haunted Mansion Holiday soundtrack CD was released. Although most of the album\\'s songs are not original ones from the film, one song is a medley of \"Making Christmas\", \"What\\'s This?\", and \"Kidnap the Sandy Claws\". Other songs included are original holiday songs changed to incorporate the theme of the film. However, the last song is the soundtrack for the Disneyland Haunted Mansion Holiday ride.\\n', start_char_idx=None, end_char_idx=None, text_template='{metadata_str}\\n\\n{content}', metadata_template='{key}: {value}', metadata_seperator='\\n'), score=0.7508259415626526), NodeWithScore(node=TextNode(id_='179b6185-3842-4866-8a83-2e94e2c67278', embedding=None, metadata={}, excluded_embed_metadata_keys=[], excluded_llm_metadata_keys=[], relationships={<NodeRelationship.SOURCE: '1'>: RelatedNodeInfo(node_id='db86a242-c200-4ebc-b250-b93eb7248359', node_type=<ObjectType.DOCUMENT: '4'>, metadata={}, hash='ded676f2fd0e0961384fd0825dec0890c0cc107ca5e32ed7d9c8699835ba4c7a'), <NodeRelationship.PREVIOUS: '2'>: RelatedNodeInfo(node_id='7528b686-b9b1-4c33-ac32-d086e60569d4', node_type=<ObjectType.TEXT: '1'>, metadata={}, hash='1e41c912a675d1bd4bc9a18d178880d56fd428da5bde01718e1bdbba386b1e35'), <NodeRelationship.NEXT: '3'>: RelatedNodeInfo(node_id='e6d35439-9fb6-403c-93a4-02dd35602650', node_type=<ObjectType.TEXT: '1'>, metadata={}, hash='a231e8d77c4b946fffae70c868998c5ac6cd58cdfa8a88e46a97badbe27a640c')}, hash='788a4c15f2ff66e99fa1f7667d4b02ac924828e27b13bb3a3b42e320583220d6', text='Source 3:\\n== Voice cast ==\\n \\n\\nChris Sarandon (speaking voice) and Danny Elfman (singing voice) as Jack Skellington, a skeleton known as the \"Pumpkin King\" of Halloween Town. Elfman was initially cast as Jack\\'s singing voice and, after the songs were recorded, Sarandon was cast to match Elfman\\'s voice style.Elfman also voices:\\nBarrel, one of the trick-or-treaters working for Oogie Boogie.\\nThe Clown with the Tear-Away Face, a self-described clown who rides a unicycle.\\nCatherine O\\'Hara as Sally, a rag doll/Frankenstein\\'s monster-like creation of Finkelstein and Jack\\'s love interest. She is a toxicologist who uses various types of poison to liberate herself from the captivity of her \"father\". She is also psychic and has premonitions when anything bad is about to happen. O\\'Hara had previously co-starred in Burton\\'s Beetlejuice.\\nO\\'Hara also voices Shock, one of the trick-or-treaters working for Oogie Boogie.\\nWilliam Hickey as Doctor Finkelstein, a mad scientist and the loving but overbearing \"father\" of Sally. He is listed in the credits only as \"Evil Scientist\" and is only mentioned by name twice in the film.\\nGlenn Shadix as the Mayor of Halloween Town, an enthusiastic leader who conducts town meetings. His wild mood swings from happy to distraught because his head spins between a \"happy\" and \"sad\" face; where some career politicians are described as figuratively two-faced, the mayor is literally so. Shadix and Burton had previously worked on Beetlejuice.\\nKen Page as Oogie Boogie, a villainous bogeyman in Halloween Town, who has a passion for gambling and rivalry with Jack.\\nEd Ivory as Santa Claus, the ruler of Christmas Town. Santa is responsible for the annual celebration of Christmas, in which he delivers presents to children in the real world. He is also referred to by Jack and Halloween Town\\'s residents as \"Sandy Claws\". Ivory also provides the brief narration at the start of the film.\\nPaul Reubens as Lock, one of the trick-or-treaters working for Oogie Boogie.\\n', start_char_idx=None, end_char_idx=None, text_template='{metadata_str}\\n\\n{content}', metadata_template='{key}: {value}', metadata_seperator='\\n'), score=0.7213829755783081), NodeWithScore(node=TextNode(id_='179b6185-3842-4866-8a83-2e94e2c67278', embedding=None, metadata={}, excluded_embed_metadata_keys=[], excluded_llm_metadata_keys=[], relationships={<NodeRelationship.SOURCE: '1'>: RelatedNodeInfo(node_id='db86a242-c200-4ebc-b250-b93eb7248359', node_type=<ObjectType.DOCUMENT: '4'>, metadata={}, hash='ded676f2fd0e0961384fd0825dec0890c0cc107ca5e32ed7d9c8699835ba4c7a'), <NodeRelationship.PREVIOUS: '2'>: RelatedNodeInfo(node_id='7528b686-b9b1-4c33-ac32-d086e60569d4', node_type=<ObjectType.TEXT: '1'>, metadata={}, hash='1e41c912a675d1bd4bc9a18d178880d56fd428da5bde01718e1bdbba386b1e35'), <NodeRelationship.NEXT: '3'>: RelatedNodeInfo(node_id='e6d35439-9fb6-403c-93a4-02dd35602650', node_type=<ObjectType.TEXT: '1'>, metadata={}, hash='a231e8d77c4b946fffae70c868998c5ac6cd58cdfa8a88e46a97badbe27a640c')}, hash='788a4c15f2ff66e99fa1f7667d4b02ac924828e27b13bb3a3b42e320583220d6', text=\"Source 4:\\nReubens and Burton had previously worked on Pee-wee's Big Adventure and Batman Returns.The cast also features Kerry Katz, Carmen Twillie, Randy Crenshaw, Lisa Donovan Lukas, Debi Durst, Glenn Walters, Sherwood Ball, John Morris and Greg Proops voicing various characters. Patrick Stewart recorded narration for a prologue and epilogue. While not used in the final film, the narration is included on the soundtrack album.\\n\\n\\n== Production ==\\n\", start_char_idx=None, end_char_idx=None, text_template='{metadata_str}\\n\\n{content}', metadata_template='{key}: {value}', metadata_seperator='\\n'), score=0.7213829755783081), NodeWithScore(node=TextNode(id_='7528b686-b9b1-4c33-ac32-d086e60569d4', embedding=None, metadata={}, excluded_embed_metadata_keys=[], excluded_llm_metadata_keys=[], relationships={<NodeRelationship.SOURCE: '1'>: RelatedNodeInfo(node_id='db86a242-c200-4ebc-b250-b93eb7248359', node_type=<ObjectType.DOCUMENT: '4'>, metadata={}, hash='ded676f2fd0e0961384fd0825dec0890c0cc107ca5e32ed7d9c8699835ba4c7a'), <NodeRelationship.PREVIOUS: '2'>: RelatedNodeInfo(node_id='426a8e18-700e-4a90-bea7-ae204d219af4', node_type=<ObjectType.TEXT: '1'>, metadata={}, hash='01f2c9c547ce9c8790b68517a6d2b861b2050d76fce63822d3be0a85f8ec6f53'), <NodeRelationship.NEXT: '3'>: RelatedNodeInfo(node_id='179b6185-3842-4866-8a83-2e94e2c67278', node_type=<ObjectType.TEXT: '1'>, metadata={}, hash='788a4c15f2ff66e99fa1f7667d4b02ac924828e27b13bb3a3b42e320583220d6')}, hash='1e41c912a675d1bd4bc9a18d178880d56fd428da5bde01718e1bdbba386b1e35', text='Source 5:\\n== Plot ==\\nHalloween Town is a fantasy world populated by various monsters and beings associated with the holiday (\"This is Halloween\"). Jack Skellington, who is respected by the citizens as the \"Pumpkin King\", leads them in organizing the annual Halloween celebrations, but he has grown tired of the same annual routine and wants something new (\"Jack\\'s Lament\"). While wandering in the woods the next morning, he encounters several trees containing doors leading to other holiday-themed worlds (Christmas, Easter, Thanksgiving, Independence Day, Valentine\\'s Day, and St. Patrick\\'s Day) and stumbles into a door leading to Christmas Town (\"What\\'s This?\"). Awed by the unfamiliar holiday, Jack returns home to show his friends and neighbors his findings, but unaware of the idea of Christmas, they compare everything to their ideas of Halloween (\"Town Meeting Song\"). However, they do relate to one Christmas Town character: its ruler, Santa Claus, or \"Sandy Claws\" as Jack mistakenly calls him. Jack sequesters himself in his house to study Christmas further and find a way to rationally explain it (\"Jack\\'s Obsession\"). After his studying and experimentation accomplish nothing, Jack ultimately decides that Christmas should be \"improved\" rather than understood and announces that Halloween Town will take over Christmas this year.\\nJack assigns the residents many Christmas-themed jobs, including singing carols, making presents (\"Making Christmas\"), and building a sleigh pulled by skeletal reindeer. Sally, a feminine creation of local mad scientist Doctor Finkelstein, experiences a vision of a burning Christmas tree and warns that their efforts will end disastrously. Jack, whom she secretly loves, dismisses her forewarnings and assigns her with making him a Santa Claus suit. He also tasks mischievous trick-or-treating trio Lock, Shock and Barrel with abducting Santa and bringing him to Halloween Town (\"Kidnap the Sandy Claws\"). Jack tells Santa he will be handling Christmas in his place this year and orders the trio to keep Santa safe. However, against his wishes, they deliver Santa to Jack\\'s long-time rival Oogie Boogie: a bogeyman with a passion for gambling, who plots to play a game with Santa\\'s life at stake (\"Oogie Boogie\\'s Song\"). After failing to stop Jack from carrying out his plan (\"Sally\\'s Song\"), Sally attempts to rescue Santa, but is captured.\\n', start_char_idx=None, end_char_idx=None, text_template='{metadata_str}\\n\\n{content}', metadata_template='{key}: {value}', metadata_seperator='\\n'), score=0.7012133598327637), NodeWithScore(node=TextNode(id_='7528b686-b9b1-4c33-ac32-d086e60569d4', embedding=None, metadata={}, excluded_embed_metadata_keys=[], excluded_llm_metadata_keys=[], relationships={<NodeRelationship.SOURCE: '1'>: RelatedNodeInfo(node_id='db86a242-c200-4ebc-b250-b93eb7248359', node_type=<ObjectType.DOCUMENT: '4'>, metadata={}, hash='ded676f2fd0e0961384fd0825dec0890c0cc107ca5e32ed7d9c8699835ba4c7a'), <NodeRelationship.PREVIOUS: '2'>: RelatedNodeInfo(node_id='426a8e18-700e-4a90-bea7-ae204d219af4', node_type=<ObjectType.TEXT: '1'>, metadata={}, hash='01f2c9c547ce9c8790b68517a6d2b861b2050d76fce63822d3be0a85f8ec6f53'), <NodeRelationship.NEXT: '3'>: RelatedNodeInfo(node_id='179b6185-3842-4866-8a83-2e94e2c67278', node_type=<ObjectType.TEXT: '1'>, metadata={}, hash='788a4c15f2ff66e99fa1f7667d4b02ac924828e27b13bb3a3b42e320583220d6')}, hash='1e41c912a675d1bd4bc9a18d178880d56fd428da5bde01718e1bdbba386b1e35', text='Source 6:\\nJack departs to deliver presents in the real world, but they frighten the populace, who contact the authorities and are instructed to lock down their homes and residences for protection. When word spreads about Jack\\'s actions, he is shot down by military forces and crashes in a cemetery. While the residents of Halloween Town believe him to be dead, Jack survives. As he bemoans the disaster he has caused (\"Poor Jack\"), he finds that he enjoyed using his new methods of scaring people, reigniting his love of Halloween, but realizes he must act to fix his mess. Jack returns home and infiltrates Oogie\\'s lair, rescuing Santa and Sally before confronting Oogie. He defeats him by unraveling a thread holding his cloth form together, causing the bugs inside him to spill out and reduce him to nothing. Jack apologizes for his actions to Santa, who, despite being furious with Jack for the chaos he caused and not listening to Sally, assures him he can still save Christmas. As Santa replaces Jack\\'s presents with genuine ones, all of Halloween Town celebrates Jack\\'s survival and return (\"Finale / Reprise\"). Santa then shows Jack that there are no hard feelings between them by bringing snowfall to the town, fulfilling Jack\\'s original dream of bringing the Christmas spirit to his domain, and the residents realize the true meaning of Christmas. Afterwards, Jack and Sally declare their love for each other and share a kiss.\\n', start_char_idx=None, end_char_idx=None, text_template='{metadata_str}\\n\\n{content}', metadata_template='{key}: {value}', metadata_seperator='\\n'), score=0.7012133598327637)], metadata={'df9d135a-1d75-495b-98f9-7bd9bb53074c': {}, '179b6185-3842-4866-8a83-2e94e2c67278': {}, '7528b686-b9b1-4c33-ac32-d086e60569d4': {}})"
      ]
     },
     "execution_count": 7,
     "metadata": {},
     "output_type": "execute_result"
    }
   ],
   "source": [
    "response"
   ]
  },
  {
   "cell_type": "code",
   "execution_count": 8,
   "metadata": {},
   "outputs": [
    {
     "name": "stdout",
     "output_type": "stream",
     "text": [
      "Source 1:\n",
      "=== Filming ===\n",
      "Selick and his team of animators began production in July 1991 in San Francisco, California, with a crew of over 120 workers, utilizing 20 sound stages for filming. Joe Ranft was hired from Disney as a storyboard supervisor, while Eric Leighton was hired to supervise animation. At the peak of production, 20 individual stages were simultaneously being used for filming. In total, there were 109,440 frames taken for the film. The work of Ray Harryhausen, Ladislas Starevich, Edward Gorey, Étienne Delessert, Gahan Wilson, Charles Addams, Jan Lenica, Francis Bacon, and Wassily Kandinsky influenced the filmmakers. Selick described the production design as akin to a pop-up book. In addition, Selick stated, \"When we reach Halloween Town, it's entirely German Expressionism. When Jack enters Christmas Town, it's an outrageous Dr. Seuss-esque setpiece. Finally, when Jack is delivering presents in the 'Real World', everything is plain, simple and perfectly aligned.\" Vincent Price, Don Ameche, and James Earl Jones were considered to provide the narration for the film's prologue; however, all proved difficult to cast, and the producers instead hired local voice artist Ed Ivory. Patrick Stewart provided the prologue narration for the film's soundtrack.\n",
      "On the direction of the film, Selick reflected, \"It's as though he [Burton] laid the egg, and I sat on it and hatched it. He wasn't involved in a hands-on way, but his hand is in it. It was my job to make it look like 'a Tim Burton film', which is not so different from my own films.\" When asked about Burton's involvement, Selick claimed, \"I don't want to take away from Tim, but he was not in San Francisco when we made it. He came up five times over two years, and spent no more than eight or ten days in total.\" Walt Disney Feature Animation contributed with digital effects and some second-layering traditional animation. Burton found production somewhat difficult, because he was simultaneously filming Batman Returns and pre-production of Ed Wood.The filmmakers constructed 227 puppets to represent the characters in the movie, with Jack Skellington having \"around four hundred heads\", allowing the expression of every possible emotion.\n",
      "\n",
      "Source 2:\n",
      "Sally's mouth movements \"were animated through the replacement method. During the animation process, […] only Sally's face 'mask' was removed in order to preserve the order of her long, red hair. Sally had ten types of faces, each made with a series of eleven expressions (e.g. eyes open and closed, and various facial poses) and synchronized mouth movements.\" The stop-motion figurine of Jack was reused in James and the Giant Peach (also directed by Selick) as Captain Jack.\n",
      "\n",
      "\n",
      "== Soundtracks ==\n",
      "\n",
      "The film's soundtrack album was released in 1993 on Walt Disney Records. The film's soundtrack contains bonus tracks, including a longer prologue and an extra epilogue, both narrated by Sir Patrick Stewart. For the film's 2006 re-release in Disney Digital 3-D, a special edition of the soundtrack was released, featuring a bonus disc that contained covers of five of the film's songs by Fall Out Boy, Panic! at the Disco, Marilyn Manson, Fiona Apple, and She Wants Revenge. Four original demo tracks by Elfman were also included. On September 30, 2008, Disney released the cover album Nightmare Revisited, featuring artists such as Amy Lee, Flyleaf, Korn, Rise Against, Plain White T's, The All-American Rejects, and many more.American gothic rock band London After Midnight featured a cover of \"Sally's Song\" on their 1998 album Oddities.\n",
      "LiLi Roquelin performed a French cover of \"Sally's Song\" on her album Will you hate the rest of the world or will you renew your life? in 2010.\n",
      "Pentatonix released a cover of \"Making Christmas\" for their 2018 Christmas album Christmas Is Here!.In 2003, the Disneyland Haunted Mansion Holiday soundtrack CD was released. Although most of the album's songs are not original ones from the film, one song is a medley of \"Making Christmas\", \"What's This?\", and \"Kidnap the Sandy Claws\". Other songs included are original holiday songs changed to incorporate the theme of the film. However, the last song is the soundtrack for the Disneyland Haunted Mansion Holiday ride.\n",
      "\n",
      "Source 3:\n",
      "== Voice cast ==\n",
      " \n",
      "\n",
      "Chris Sarandon (speaking voice) and Danny Elfman (singing voice) as Jack Skellington, a skeleton known as the \"Pumpkin King\" of Halloween Town. Elfman was initially cast as Jack's singing voice and, after the songs were recorded, Sarandon was cast to match Elfman's voice style.Elfman also voices:\n",
      "Barrel, one of the trick-or-treaters working for Oogie Boogie.\n",
      "The Clown with the Tear-Away Face, a self-described clown who rides a unicycle.\n",
      "Catherine O'Hara as Sally, a rag doll/Frankenstein's monster-like creation of Finkelstein and Jack's love interest. She is a toxicologist who uses various types of poison to liberate herself from the captivity of her \"father\". She is also psychic and has premonitions when anything bad is about to happen. O'Hara had previously co-starred in Burton's Beetlejuice.\n",
      "O'Hara also voices Shock, one of the trick-or-treaters working for Oogie Boogie.\n",
      "William Hickey as Doctor Finkelstein, a mad scientist and the loving but overbearing \"father\" of Sally. He is listed in the credits only as \"Evil Scientist\" and is only mentioned by name twice in the film.\n",
      "Glenn Shadix as the Mayor of Halloween Town, an enthusiastic leader who conducts town meetings. His wild mood swings from happy to distraught because his head spins between a \"happy\" and \"sad\" face; where some career politicians are described as figuratively two-faced, the mayor is literally so. Shadix and Burton had previously worked on Beetlejuice.\n",
      "Ken Page as Oogie Boogie, a villainous bogeyman in Halloween Town, who has a passion for gambling and rivalry with Jack.\n",
      "Ed Ivory as Santa Claus, the ruler of Christmas Town. Santa is responsible for the annual celebration of Christmas, in which he delivers presents to children in the real world. He is also referred to by Jack and Halloween Town's residents as \"Sandy Claws\". Ivory also provides the brief narration at the start of the film.\n",
      "Paul Reubens as Lock, one of the trick-or-treaters working for Oogie Boogie.\n",
      "\n",
      "Source 4:\n",
      "Reubens and Burton had previously worked on Pee-wee's Big Adventure and Batman Returns.The cast also features Kerry Katz, Carmen Twillie, Randy Crenshaw, Lisa Donovan Lukas, Debi Durst, Glenn Walters, Sherwood Ball, John Morris and Greg Proops voicing various characters. Patrick Stewart recorded narration for a prologue and epilogue. While not used in the final film, the narration is included on the soundtrack album.\n",
      "\n",
      "\n",
      "== Production ==\n",
      "\n",
      "Source 5:\n",
      "== Plot ==\n",
      "Halloween Town is a fantasy world populated by various monsters and beings associated with the holiday (\"This is Halloween\"). Jack Skellington, who is respected by the citizens as the \"Pumpkin King\", leads them in organizing the annual Halloween celebrations, but he has grown tired of the same annual routine and wants something new (\"Jack's Lament\"). While wandering in the woods the next morning, he encounters several trees containing doors leading to other holiday-themed worlds (Christmas, Easter, Thanksgiving, Independence Day, Valentine's Day, and St. Patrick's Day) and stumbles into a door leading to Christmas Town (\"What's This?\"). Awed by the unfamiliar holiday, Jack returns home to show his friends and neighbors his findings, but unaware of the idea of Christmas, they compare everything to their ideas of Halloween (\"Town Meeting Song\"). However, they do relate to one Christmas Town character: its ruler, Santa Claus, or \"Sandy Claws\" as Jack mistakenly calls him. Jack sequesters himself in his house to study Christmas further and find a way to rationally explain it (\"Jack's Obsession\"). After his studying and experimentation accomplish nothing, Jack ultimately decides that Christmas should be \"improved\" rather than understood and announces that Halloween Town will take over Christmas this year.\n",
      "Jack assigns the residents many Christmas-themed jobs, including singing carols, making presents (\"Making Christmas\"), and building a sleigh pulled by skeletal reindeer. Sally, a feminine creation of local mad scientist Doctor Finkelstein, experiences a vision of a burning Christmas tree and warns that their efforts will end disastrously. Jack, whom she secretly loves, dismisses her forewarnings and assigns her with making him a Santa Claus suit. He also tasks mischievous trick-or-treating trio Lock, Shock and Barrel with abducting Santa and bringing him to Halloween Town (\"Kidnap the Sandy Claws\"). Jack tells Santa he will be handling Christmas in his place this year and orders the trio to keep Santa safe. However, against his wishes, they deliver Santa to Jack's long-time rival Oogie Boogie: a bogeyman with a passion for gambling, who plots to play a game with Santa's life at stake (\"Oogie Boogie's Song\"). After failing to stop Jack from carrying out his plan (\"Sally's Song\"), Sally attempts to rescue Santa, but is captured.\n",
      "\n",
      "Source 6:\n",
      "Jack departs to deliver presents in the real world, but they frighten the populace, who contact the authorities and are instructed to lock down their homes and residences for protection. When word spreads about Jack's actions, he is shot down by military forces and crashes in a cemetery. While the residents of Halloween Town believe him to be dead, Jack survives. As he bemoans the disaster he has caused (\"Poor Jack\"), he finds that he enjoyed using his new methods of scaring people, reigniting his love of Halloween, but realizes he must act to fix his mess. Jack returns home and infiltrates Oogie's lair, rescuing Santa and Sally before confronting Oogie. He defeats him by unraveling a thread holding his cloth form together, causing the bugs inside him to spill out and reduce him to nothing. Jack apologizes for his actions to Santa, who, despite being furious with Jack for the chaos he caused and not listening to Sally, assures him he can still save Christmas. As Santa replaces Jack's presents with genuine ones, all of Halloween Town celebrates Jack's survival and return (\"Finale / Reprise\"). Santa then shows Jack that there are no hard feelings between them by bringing snowfall to the town, fulfilling Jack's original dream of bringing the Christmas spirit to his domain, and the residents realize the true meaning of Christmas. Afterwards, Jack and Sally declare their love for each other and share a kiss.\n",
      "\n"
     ]
    }
   ],
   "source": [
    "for source in response.source_nodes:\n",
    "    print(source.node.get_text())"
   ]
  },
  {
   "cell_type": "code",
   "execution_count": 21,
   "metadata": {},
   "outputs": [],
   "source": [
    "query_engine_64 = CitationQueryEngine.from_args(\n",
    "    vector_index,\n",
    "    similarity_top_k=3,\n",
    "    # here we can control how granular citation sources are, the default is 512\n",
    "    citation_chunk_size=64,\n",
    ")"
   ]
  },
  {
   "cell_type": "code",
   "execution_count": 11,
   "metadata": {},
   "outputs": [],
   "source": [
    "query_engine_512 = CitationQueryEngine.from_args(\n",
    "    vector_index,\n",
    "    similarity_top_k=3,\n",
    "    # here we can control how granular citation sources are, the default is 512\n",
    "    citation_chunk_size=512,\n",
    ")"
   ]
  },
  {
   "cell_type": "code",
   "execution_count": 22,
   "metadata": {},
   "outputs": [],
   "source": [
    "res_64_main_char = query_engine_64.query(\"Who is the main character?\")\n",
    "res_512_main_char = query_engine_512.query(\"Who is the main character?\")"
   ]
  },
  {
   "cell_type": "code",
   "execution_count": 23,
   "metadata": {},
   "outputs": [],
   "source": [
    "res_64_plot = query_engine_64.query(\"What is the plot?\")\n",
    "res_512_plot = query_engine_512.query(\"What is the plot?\")"
   ]
  },
  {
   "cell_type": "code",
   "execution_count": 27,
   "metadata": {},
   "outputs": [],
   "source": [
    "from pprint import pprint"
   ]
  },
  {
   "cell_type": "code",
   "execution_count": 29,
   "metadata": {},
   "outputs": [
    {
     "name": "stdout",
     "output_type": "stream",
     "text": [
      "'The main character of the film is Jack Skellington [23].'\n"
     ]
    }
   ],
   "source": [
    "pprint(res_64_main_char.response)"
   ]
  },
  {
   "cell_type": "code",
   "execution_count": 30,
   "metadata": {},
   "outputs": [
    {
     "name": "stdout",
     "output_type": "stream",
     "text": [
      "'The main character of the film is Jack Skellington [6].'\n"
     ]
    }
   ],
   "source": [
    "pprint(res_512_main_char.response)"
   ]
  },
  {
   "cell_type": "code",
   "execution_count": 31,
   "metadata": {},
   "outputs": [
    {
     "name": "stdout",
     "output_type": "stream",
     "text": [
      "('The plot of \"The Nightmare Before Christmas\" revolves around Jack '\n",
      " 'Skellington, the Pumpkin King of Halloween Town, who becomes bored with the '\n",
      " 'same routine of Halloween and discovers Christmas Town. Intrigued by the '\n",
      " 'concept of Christmas, Jack decides to take over Christmas and assigns the '\n",
      " 'residents of Halloween Town various Christmas-themed tasks. However, their '\n",
      " \"efforts lead to chaos and Jack's plan goes awry. Eventually, Jack realizes \"\n",
      " 'his mistake and works to fix the mess he created. The film ends with Jack '\n",
      " 'and Sally declaring their love for each other and sharing a kiss [23-38].')\n"
     ]
    }
   ],
   "source": [
    "pprint(res_64_plot.response)"
   ]
  },
  {
   "cell_type": "code",
   "execution_count": 32,
   "metadata": {},
   "outputs": [
    {
     "name": "stdout",
     "output_type": "stream",
     "text": [
      "('The plot of \"The Nightmare Before Christmas\" revolves around Jack '\n",
      " 'Skellington, the Pumpkin King of Halloween Town, who becomes tired of the '\n",
      " 'same routine of Halloween and discovers Christmas Town. Intrigued by the '\n",
      " 'concept of Christmas, Jack decides that Halloween Town will take over '\n",
      " 'Christmas this year. He assigns the residents various Christmas-themed '\n",
      " \"tasks, but his efforts lead to disastrous consequences. Jack's love \"\n",
      " 'interest, Sally, warns him about the potential disaster, but he dismisses '\n",
      " 'her warnings. Eventually, Jack realizes his mistake and sets out to fix the '\n",
      " 'chaos he has caused. With the help of Santa Claus, Jack saves Christmas and '\n",
      " 'learns the true meaning of the holiday. The film ends with Jack and Sally '\n",
      " 'declaring their love for each other [6][7][8][9].')\n"
     ]
    }
   ],
   "source": [
    "pprint(res_512_plot.response)"
   ]
  },
  {
   "cell_type": "code",
   "execution_count": null,
   "metadata": {},
   "outputs": [],
   "source": []
  }
 ],
 "metadata": {
  "kernelspec": {
   "display_name": "hw_milvus",
   "language": "python",
   "name": "python3"
  },
  "language_info": {
   "codemirror_mode": {
    "name": "ipython",
    "version": 3
   },
   "file_extension": ".py",
   "mimetype": "text/x-python",
   "name": "python",
   "nbconvert_exporter": "python",
   "pygments_lexer": "ipython3",
   "version": "3.10.11"
  }
 },
 "nbformat": 4,
 "nbformat_minor": 2
}
